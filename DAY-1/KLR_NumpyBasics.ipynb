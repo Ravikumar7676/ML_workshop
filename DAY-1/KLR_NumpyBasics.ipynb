{
  "nbformat": 4,
  "nbformat_minor": 0,
  "metadata": {
    "colab": {
      "name": "NumpyBasics",
      "provenance": [],
      "collapsed_sections": []
    },
    "kernelspec": {
      "name": "python3",
      "display_name": "Python 3"
    }
  },
  "cells": [
    {
      "cell_type": "markdown",
      "metadata": {
        "id": "JhxVSr9v4ayA",
        "colab_type": "text"
      },
      "source": [
        "# **NumPy** \n",
        "is a Python package which stands for 'Numerical Python'. It is a library consisting of multidimensional array objects and a collection of routines for processing of array.\n",
        "\n",
        "# **NumPy – A Replacement for MatLab**\n",
        "NumPy is often used along with packages like SciPy (Scientific Python) and Mat−plotlib (plotting library). This combination is widely used as a replacement for MatLab, a popular platform for technical computing."
      ]
    },
    {
      "cell_type": "markdown",
      "metadata": {
        "id": "l2TJCEYtBf1B",
        "colab_type": "text"
      },
      "source": [
        "The most important object defined in NumPy is an N-dimensional array type called **ndarray**. It **describes the collection of items of the same type**. Items in the collection can be accessed using a zero-based index.\n",
        "\n",
        "The basic ndarray is created using an array function in NumPy as follows:\n",
        "\n",
        "**numpy.array**\n",
        "\n",
        "The array constructor has keys parameters like\n",
        "\n",
        " **dtype**:Desired data type of array, optional.\n",
        "\n",
        " **ndmin**:Specifies minimum dimensions of resultant array\n",
        "\n",
        "\n",
        "<p>NumPy supports a much greater variety of numerical types than Python does. The following table shows different scalar data types defined in NumPy.</p>\n",
        "<table class=\"table table-bordered\">\n",
        "<tr>\n",
        "<th style=\"text-align:center;\">Sr.No.</th>\n",
        "<th style=\"text-align:center;\">Data Types &amp; Description</th>\n",
        "</tr>\n",
        "<tr>\n",
        "<td class=\"ts\">1</td>\n",
        "<td><p><b>bool_</b></p>\n",
        "<p>Boolean (True or False) stored as a byte</p>\n",
        "</td>\n",
        "</tr>\n",
        "<tr>\n",
        "<td class=\"ts\">2</td>\n",
        "<td><p><b>int_</b></p>\n",
        "<p>Default integer type (same as C long; normally either int64 or int32)</p>\n",
        "</td>\n",
        "</tr>\n",
        "<tr>\n",
        "<td class=\"ts\">3</td>\n",
        "<td><p><b>intc</b></p>\n",
        "<p>Identical to C int (normally int32 or int64)</p>\n",
        "</td>\n",
        "</tr>\n",
        "<tr>\n",
        "<td class=\"ts\">4</td>\n",
        "<td><p><b>intp</b></p>\n",
        "<p>Integer used for indexing (same as C ssize_t; normally either int32 or int64)</p>\n",
        "</td>\n",
        "</tr>\n",
        "<tr>\n",
        "<td class=\"ts\">5</td>\n",
        "<td><p><b>int8</b></p>\n",
        "<p>Byte (-128 to 127)</p>\n",
        "</td>\n",
        "</tr>\n",
        "<tr>\n",
        "<td class=\"ts\">6</td>\n",
        "<td><p><b>int16</b></p>\n",
        "<p>Integer (-32768 to 32767)</p>\n",
        "</td>\n",
        "</tr>\n",
        "<tr>\n",
        "<td class=\"ts\">7</td>\n",
        "<td><p><b>int32</b></p>\n",
        "<p>Integer (-2147483648 to 2147483647)</p>\n",
        "</td>\n",
        "</tr>\n",
        "<tr>\n",
        "<td class=\"ts\">8</td>\n",
        "<td><p><b>int64</b></p>\n",
        "<p>Integer (-9223372036854775808 to 9223372036854775807)</p>\n",
        "</td>\n",
        "</tr>\n",
        "<tr>\n",
        "<td class=\"ts\">9</td>\n",
        "<td><p><b>uint8</b></p>\n",
        "<p>Unsigned integer (0 to 255)</p>\n",
        "</td>\n",
        "</tr>\n",
        "<tr>\n",
        "<td class=\"ts\">10</td>\n",
        "<td><p><b>uint16</b></p>\n",
        "<p>Unsigned integer (0 to 65535)</p>\n",
        "</td>\n",
        "</tr>\n",
        "<tr>\n",
        "<td class=\"ts\">11</td>\n",
        "<td><p><b>uint32</b></p>\n",
        "<p>Unsigned integer (0 to 4294967295)</p>\n",
        "</td>\n",
        "</tr>\n",
        "<tr>\n",
        "<td class=\"ts\">12</td>\n",
        "<td><p><b>uint64</b></p>\n",
        "<p>Unsigned integer (0 to 18446744073709551615)</p>\n",
        "</td>\n",
        "</tr>\n",
        "<tr>\n",
        "<td class=\"ts\">13</td>\n",
        "<td><p><b>float_</b></p>\n",
        "<p>Shorthand for float64</p>\n",
        "</td>\n",
        "</tr>\n",
        "<tr>\n",
        "<td class=\"ts\">14</td>\n",
        "<td><p><b>float16</b></p>\n",
        "<p>Half precision float: sign bit, 5 bits exponent, 10 bits mantissa</p>\n",
        "</td>\n",
        "</tr>\n",
        "<tr>\n",
        "<td class=\"ts\">15</td>\n",
        "<td><p><b>float32</b></p>\n",
        "<p>Single precision float: sign bit, 8 bits exponent, 23 bits mantissa</p>\n",
        "</td>\n",
        "</tr>\n",
        "<tr>\n",
        "<td class=\"ts\">16</td>\n",
        "<td><p><b>float64</b></p>\n",
        "<p>Double precision float: sign bit, 11 bits exponent, 52 bits mantissa</p>\n",
        "</td>\n",
        "</tr>\n",
        "<tr>\n",
        "<td class=\"ts\">17</td>\n",
        "<td><p><b>complex_</b></p>\n",
        "<p>Shorthand for complex128</p>\n",
        "</td>\n",
        "</tr>\n",
        "<tr>\n",
        "<td class=\"ts\">18</td>\n",
        "<td><p><b>complex64</b></p>\n",
        "<p>Complex number, represented by two 32-bit floats (real and imaginary components)</p>\n",
        "</td>\n",
        "</tr>\n",
        "<tr>\n",
        "<td class=\"ts\">19</td>\n",
        "<td><p><b>complex128</b></p>\n",
        "<p>Complex number, represented by two 64-bit floats \n",
        "(real and imaginary components)</p>\n",
        "</td>\n",
        "</tr>\n",
        "</table>\n",
        "\n",
        "\n"
      ]
    },
    {
      "cell_type": "code",
      "metadata": {
        "id": "0lLJceJAOl0c",
        "colab_type": "code",
        "colab": {}
      },
      "source": [
        "#Example1\n",
        "import numpy as np \n",
        "a = np.array([1,2,3]) \n",
        "print(a)"
      ],
      "execution_count": 0,
      "outputs": []
    },
    {
      "cell_type": "code",
      "metadata": {
        "id": "hwnwt3zGCKYI",
        "colab_type": "code",
        "colab": {}
      },
      "source": [
        "# more than one dimensions \n",
        "import numpy as np \n",
        "a = np.array([[1, 2], [3, 4]]) \n",
        "print (a)"
      ],
      "execution_count": 0,
      "outputs": []
    },
    {
      "cell_type": "code",
      "metadata": {
        "id": "mjgp40wEDw8c",
        "colab_type": "code",
        "colab": {}
      },
      "source": [
        "# minimum dimensions \n",
        "import numpy as np \n",
        "a = np.array([[1, 2], [3,4], [5,6]]) \n",
        "print (a[2][0])"
      ],
      "execution_count": 0,
      "outputs": []
    },
    {
      "cell_type": "code",
      "metadata": {
        "id": "VOMocFadEPoL",
        "colab_type": "code",
        "colab": {}
      },
      "source": [
        "# minimum dimensions \n",
        "import numpy as np \n",
        "a = np.array([1, 2, 3,4,5]) \n",
        "print (a[4])\n",
        "print([0][4])  #Throws error since it is single dimentional array only."
      ],
      "execution_count": 0,
      "outputs": []
    },
    {
      "cell_type": "code",
      "metadata": {
        "id": "-c3AmBSRCTuw",
        "colab_type": "code",
        "colab": {}
      },
      "source": [
        "# minimum dimensions \n",
        "import numpy as np \n",
        "a = np.array([1, 2, 3,4,5], ndmin = 2) \n",
        "print (a[0][4])"
      ],
      "execution_count": 0,
      "outputs": []
    },
    {
      "cell_type": "code",
      "metadata": {
        "id": "6cGxJ-TCECqx",
        "colab_type": "code",
        "colab": {}
      },
      "source": [
        "# minimum dimensions \n",
        "import numpy as np \n",
        "a = np.array([[1, 2, 3,4,5],[6,7,8,9,10]]) \n",
        "print (a[1][4])\n",
        "print(a[1,4])"
      ],
      "execution_count": 0,
      "outputs": []
    },
    {
      "cell_type": "code",
      "metadata": {
        "id": "qemSJUN6DUIj",
        "colab_type": "code",
        "outputId": "83246c6b-1ad1-413a-ab93-09f50daa1ba9",
        "colab": {
          "base_uri": "https://localhost:8080/",
          "height": 35
        }
      },
      "source": [
        "# dtype parameter \n",
        "import numpy as np \n",
        "a = np.array([1, 2, 3], dtype = complex) \n",
        "print (a)"
      ],
      "execution_count": 0,
      "outputs": [
        {
          "output_type": "stream",
          "text": [
            "[1.+0.j 2.+0.j 3.+0.j]\n"
          ],
          "name": "stdout"
        }
      ]
    },
    {
      "cell_type": "markdown",
      "metadata": {
        "id": "OYhTYoUCHIg6",
        "colab_type": "text"
      },
      "source": [
        "# **NumPy - Array Attributes**"
      ]
    },
    {
      "cell_type": "code",
      "metadata": {
        "id": "A5vJElILHQz-",
        "colab_type": "code",
        "colab": {}
      },
      "source": [
        "#Example 1\n",
        "\n",
        "import numpy as np \n",
        "a = np.array([[1,2,3],[4,5,6]])\n",
        "print (a.shape)"
      ],
      "execution_count": 0,
      "outputs": []
    },
    {
      "cell_type": "code",
      "metadata": {
        "id": "5WQa7J87HYoY",
        "colab_type": "code",
        "colab": {}
      },
      "source": [
        "#Example 2\n",
        "\n",
        "# this resizes the ndarray \n",
        "import numpy as np \n",
        "\n",
        "a = np.array([[1,2,3],[4,5,6]]) \n",
        "a.shape = (3,2) \n",
        "print (a)"
      ],
      "execution_count": 0,
      "outputs": []
    },
    {
      "cell_type": "code",
      "metadata": {
        "id": "_AulrLesHgYB",
        "colab_type": "code",
        "colab": {}
      },
      "source": [
        "#Example 3\n",
        "\n",
        "import numpy as np \n",
        "a = np.array([[1,2,3],[4,5,6]]) \n",
        "b = a.reshape(3,2) \n",
        "print (b)"
      ],
      "execution_count": 0,
      "outputs": []
    },
    {
      "cell_type": "markdown",
      "metadata": {
        "id": "ZhARD1pRIEwJ",
        "colab_type": "text"
      },
      "source": [
        "# **ndarray.ndim**\n",
        "\n",
        "This array attribute returns the number of array dimensions."
      ]
    },
    {
      "cell_type": "code",
      "metadata": {
        "id": "cVbPaLqjHzRP",
        "colab_type": "code",
        "colab": {}
      },
      "source": [
        "#Example 1\n",
        "# an array of evenly spaced numbers \n",
        "import numpy as np \n",
        "a = np.arange(24) \n",
        "print (a)\n",
        "print(a[4])"
      ],
      "execution_count": 0,
      "outputs": []
    },
    {
      "cell_type": "code",
      "metadata": {
        "id": "dFppm2hyH41a",
        "colab_type": "code",
        "colab": {}
      },
      "source": [
        "#Example 2\n",
        "# this is one dimensional array \n",
        "import numpy as np \n",
        "a = np.arange(24) \n",
        "a.ndim  \n",
        "\n",
        "# now reshape it \n",
        "b = a.reshape(2,4,3) \n",
        "print (b) \n",
        "# b is having three dimensions"
      ],
      "execution_count": 0,
      "outputs": []
    },
    {
      "cell_type": "markdown",
      "metadata": {
        "id": "TaPqvAjeJNaL",
        "colab_type": "text"
      },
      "source": [
        "# **numpy.itemsize**\n",
        "\n",
        "This array attribute returns the length of each element of array in bytes."
      ]
    },
    {
      "cell_type": "code",
      "metadata": {
        "id": "007vnlt0JU-W",
        "colab_type": "code",
        "colab": {}
      },
      "source": [
        "#Example1\n",
        "# dtype of array is int8 (1 byte) \n",
        "import numpy as np \n",
        "x = np.array([1,2,3,4,5], dtype = np.int8) \n",
        "print (x.itemsize)"
      ],
      "execution_count": 0,
      "outputs": []
    },
    {
      "cell_type": "code",
      "metadata": {
        "id": "fz_d6Cl8JalB",
        "colab_type": "code",
        "colab": {}
      },
      "source": [
        "#Example 2\n",
        "# dtype of array is now float32 (4 bytes) \n",
        "import numpy as np \n",
        "x = np.array([1,2,3,4,5], dtype = np.float32) \n",
        "print (x.itemsize)"
      ],
      "execution_count": 0,
      "outputs": []
    },
    {
      "cell_type": "markdown",
      "metadata": {
        "id": "0jQkFQYw8dLJ",
        "colab_type": "text"
      },
      "source": [
        "**ndarray.shape**\n",
        "\n",
        "This array attribute returns a tuple consisting of array dimensions. It can also be used to resize the array."
      ]
    },
    {
      "cell_type": "code",
      "metadata": {
        "id": "VHqWNrhk7M9K",
        "colab_type": "code",
        "colab": {}
      },
      "source": [
        "#Example 1\n",
        "import numpy as np \n",
        "a = np.array([[1,2,3],[4,5,6]]) \n",
        "print (a.shape)"
      ],
      "execution_count": 0,
      "outputs": []
    },
    {
      "cell_type": "code",
      "metadata": {
        "id": "z3Jxl0u682t1",
        "colab_type": "code",
        "colab": {}
      },
      "source": [
        "#Example 2\n",
        "# this resizes the ndarray \n",
        "import numpy as np \n",
        "\n",
        "a = np.array([[1,2,3],[4,5,6]]) \n",
        "a.shape = (3,2) \n",
        "print a "
      ],
      "execution_count": 0,
      "outputs": []
    },
    {
      "cell_type": "code",
      "metadata": {
        "id": "ErG909wA8_Cv",
        "colab_type": "code",
        "colab": {}
      },
      "source": [
        "#Example 3\n",
        "#NumPy also provides a reshape function to resize an array.\n",
        "import numpy as np \n",
        "a = np.array([[1,2,3],[4,5,6]]) \n",
        "b = a.reshape(3,2) \n",
        "print b\n"
      ],
      "execution_count": 0,
      "outputs": []
    },
    {
      "cell_type": "code",
      "metadata": {
        "id": "UPhK-8Aq9SHE",
        "colab_type": "code",
        "colab": {}
      },
      "source": [
        "#Example 4\n",
        "\n",
        "# this is one dimensional array \n",
        "import numpy as np \n",
        "a = np.arange(24) \n",
        "a.ndim  \n",
        "\n",
        "# now reshape it \n",
        "b = a.reshape(2,4,3) \n",
        "print b \n",
        "# b is having three dimensions"
      ],
      "execution_count": 0,
      "outputs": []
    },
    {
      "cell_type": "markdown",
      "metadata": {
        "id": "R0PizfDa_ml8",
        "colab_type": "text"
      },
      "source": [
        "# **NumPy - Array Creation Routines**\n",
        "\n",
        "A new ndarray object can be constructed by any of the following array creation routines"
      ]
    },
    {
      "cell_type": "code",
      "metadata": {
        "id": "3EvSx11__1x2",
        "colab_type": "code",
        "colab": {}
      },
      "source": [
        "import numpy as np \n",
        "x = np.empty([3,2], dtype = int) \n",
        "print (x)"
      ],
      "execution_count": 0,
      "outputs": []
    },
    {
      "cell_type": "code",
      "metadata": {
        "id": "Pbz-nEh5ACrc",
        "colab_type": "code",
        "colab": {}
      },
      "source": [
        "# array of five zeros. Default dtype is float \n",
        "import numpy as np \n",
        "x = np.zeros(5) \n",
        "print (x)\n",
        "\n",
        "#For Integer values\n",
        "x = np.zeros((5,), dtype = np.int) \n",
        "print (x)"
      ],
      "execution_count": 0,
      "outputs": []
    },
    {
      "cell_type": "code",
      "metadata": {
        "id": "Xe0xKaweAE4W",
        "colab_type": "code",
        "colab": {}
      },
      "source": [
        "# array of five ones. Default dtype is float \n",
        "import numpy as np \n",
        "x = np.ones(5) \n",
        "print (x)\n",
        "\n",
        "x = np.ones([2,2], dtype = int) \n",
        "print (x)"
      ],
      "execution_count": 0,
      "outputs": []
    },
    {
      "cell_type": "code",
      "metadata": {
        "id": "vOpXzGc_FWZw",
        "colab_type": "code",
        "outputId": "b7018eb3-e4fb-4c6e-9d6e-84f60cb01920",
        "colab": {
          "base_uri": "https://localhost:8080/",
          "height": 178
        }
      },
      "source": [
        "import numpy as np\n",
        "\n",
        "a = np.zeros((2,2))   # Create an array of all zeros\n",
        "print(a)              # Prints \"[[ 0.  0.]\n",
        "                      #          [ 0.  0.]]\"\n",
        "\n",
        "b = np.ones((1,2))    # Create an array of all ones\n",
        "print(b)              # Prints \"[[ 1.  1.]]\"\n",
        "\n",
        "c = np.full((2,2), 7)  # Create a constant array\n",
        "print(c)               # Prints \"[[ 7.  7.]\n",
        "                       #          [ 7.  7.]]\"\n",
        "\n",
        "d = np.eye(2)         # Create a 2x2 identity matrix\n",
        "print(d)              # Prints \"[[ 1.  0.]\n",
        "                      #          [ 0.  1.]]\"\n",
        "\n",
        "e = np.random.random((2,2))  # Create an array filled with random values\n",
        "print(e)                     # Might print \"[[ 0.91940167  0.08143941]\n",
        "                             #               [ 0.68744134  0.87236687]]\""
      ],
      "execution_count": 0,
      "outputs": [
        {
          "output_type": "stream",
          "text": [
            "[[0. 0.]\n",
            " [0. 0.]]\n",
            "[[1. 1.]]\n",
            "[[7 7]\n",
            " [7 7]]\n",
            "[[1. 0.]\n",
            " [0. 1.]]\n",
            "[[0.1124604  0.63891814]\n",
            " [0.57217836 0.91065852]]\n"
          ],
          "name": "stdout"
        }
      ]
    },
    {
      "cell_type": "markdown",
      "metadata": {
        "id": "nvo5rHUQAjEJ",
        "colab_type": "text"
      },
      "source": [
        "# **NumPy - Array From Existing Data**\n",
        "\n",
        "**numpy.asarray**\n",
        "\n",
        "This function is similar to numpy.array except for the fact that it has fewer parameters. This routine is useful for converting Python sequence into ndarray.\n",
        "\n",
        "***numpy.asarray(a, dtype = None, order = None)***\n",
        "\n",
        "The parameters are as follows:\n",
        "\n",
        "**a:** Input data in any form such as **list**, **list of tuples**, **tuples**, **tuple of tuples** or **tuple of lists**\n",
        "\n",
        "\t\n",
        "**dtype:** By default, the data type of input data is applied to the resultant ndarray\n",
        "\n",
        "**order:** C (row major) or F (column major). C is default"
      ]
    },
    {
      "cell_type": "code",
      "metadata": {
        "id": "y_B0gmYFBxOb",
        "colab_type": "code",
        "colab": {}
      },
      "source": [
        "#Example 1\n",
        "# convert list to ndarray \n",
        "import numpy as np \n",
        "\n",
        "x = [1,2,3] \n",
        "a = np.asarray(x) \n",
        "print (a)"
      ],
      "execution_count": 0,
      "outputs": []
    },
    {
      "cell_type": "code",
      "metadata": {
        "id": "Kuuc2etBB9Or",
        "colab_type": "code",
        "colab": {}
      },
      "source": [
        "#Example 2\n",
        "# dtype is set \n",
        "import numpy as np \n",
        "\n",
        "x = [1,2,3]\n",
        "a = np.asarray(x, dtype = float) \n",
        "print (a)"
      ],
      "execution_count": 0,
      "outputs": []
    },
    {
      "cell_type": "code",
      "metadata": {
        "id": "mwbr4bUnCHXd",
        "colab_type": "code",
        "colab": {}
      },
      "source": [
        "#Example 3\n",
        "# ndarray from tuple \n",
        "import numpy as np \n",
        "\n",
        "x = (1,2,3) \n",
        "a = np.asarray(x) \n",
        "print (a)"
      ],
      "execution_count": 0,
      "outputs": []
    },
    {
      "cell_type": "code",
      "metadata": {
        "id": "dqj8UioWCX6K",
        "colab_type": "code",
        "colab": {}
      },
      "source": [
        "#ndarray from list of tuples \n",
        "import numpy as np \n",
        "\n",
        "x = [(1,2,3),(4,5)] \n",
        "a = np.asarray(x) \n",
        "print (a)"
      ],
      "execution_count": 0,
      "outputs": []
    },
    {
      "cell_type": "markdown",
      "metadata": {
        "id": "Djx2K9H5C_bX",
        "colab_type": "text"
      },
      "source": [
        "# **NumPy - Array From Numerical Ranges**\n",
        "\n",
        "**numpy.arange**\n",
        "\n",
        "This function returns an ndarray object containing evenly spaced values within a given range. The format of the function is as follows\n",
        "\n",
        "**numpy.arange(start, stop, step, dtype)**\n",
        "\n"
      ]
    },
    {
      "cell_type": "code",
      "metadata": {
        "id": "EMd1SVq6DEIL",
        "colab_type": "code",
        "colab": {}
      },
      "source": [
        "#Example 1\n",
        "import numpy as np \n",
        "x = np.arange(5) \n",
        "print (x)"
      ],
      "execution_count": 0,
      "outputs": []
    },
    {
      "cell_type": "code",
      "metadata": {
        "id": "Ip6BnYT7Emlh",
        "colab_type": "code",
        "colab": {}
      },
      "source": [
        "# dtype set \n",
        "x = np.arange(5, dtype = float)\n",
        "print (x)"
      ],
      "execution_count": 0,
      "outputs": []
    },
    {
      "cell_type": "code",
      "metadata": {
        "id": "TjqYVLc2Etam",
        "colab_type": "code",
        "colab": {}
      },
      "source": [
        "# start, stop and set parameters.\n",
        "x = np.arange(10,20,2) \n",
        "print (x)"
      ],
      "execution_count": 0,
      "outputs": []
    },
    {
      "cell_type": "markdown",
      "metadata": {
        "id": "R3wR9AQgF6Rz",
        "colab_type": "text"
      },
      "source": [
        "# **NumPy - Indexing & Slicing**\n",
        "\n",
        "A Python slice object is constructed by giving **start**, **stop**, and **step** parameters to the built-in slice function. This slice object is passed to the array to extract a part of array."
      ]
    },
    {
      "cell_type": "code",
      "metadata": {
        "id": "mmAygagSGKaT",
        "colab_type": "code",
        "outputId": "f51f313a-3c44-45cc-be77-275b951517aa",
        "colab": {
          "base_uri": "https://localhost:8080/",
          "height": 53
        }
      },
      "source": [
        "import numpy as np \n",
        "a = np.arange(10) \n",
        "print(a)\n",
        "s = slice(2,7,1) \n",
        "print (a[s])"
      ],
      "execution_count": 0,
      "outputs": [
        {
          "output_type": "stream",
          "text": [
            "[0 1 2 3 4 5 6 7 8 9]\n",
            "[2 3 4 5 6]\n"
          ],
          "name": "stdout"
        }
      ]
    },
    {
      "cell_type": "code",
      "metadata": {
        "id": "2YU443uTGyl9",
        "colab_type": "code",
        "colab": {}
      },
      "source": [
        "a = np.arange(10) \n",
        "print(a)\n",
        "s = slice(2,7,2) \n",
        "print (a[s])"
      ],
      "execution_count": 0,
      "outputs": []
    },
    {
      "cell_type": "markdown",
      "metadata": {
        "id": "gGbilysNGzWd",
        "colab_type": "text"
      },
      "source": [
        "In the above example, an ndarray object is prepared by arange() function. Then a slice object is defined with start, stop, and step values 2, 7, and 2 respectively. When this slice object is passed to the ndarray, a part of it starting with index 2 up to 7 with a step of 2 is sliced.\n",
        "\n",
        "\n",
        "The same result can also be obtained by giving the slicing parameters separated by a colon : (**start:stop:step**) directly to the ndarray object."
      ]
    },
    {
      "cell_type": "code",
      "metadata": {
        "id": "WwBpSLpNHCA-",
        "colab_type": "code",
        "colab": {}
      },
      "source": [
        "\n",
        "a = np.arange(10) \n",
        "b = a[2:7:2] #This is also similar to slice(2,7,1)\n",
        "print (b)"
      ],
      "execution_count": 0,
      "outputs": []
    },
    {
      "cell_type": "code",
      "metadata": {
        "id": "5K2WLPi_IYCW",
        "colab_type": "code",
        "colab": {}
      },
      "source": [
        "# slice single item \n",
        "#import numpy as np \n",
        "\n",
        "a = np.arange(10) \n",
        "b = a[5] \n",
        "print (b)"
      ],
      "execution_count": 0,
      "outputs": []
    },
    {
      "cell_type": "code",
      "metadata": {
        "id": "TKQS1R2TIcU_",
        "colab_type": "code",
        "colab": {}
      },
      "source": [
        "# slice items starting from index \n",
        "#import numpy as np \n",
        "a = np.arange(10) \n",
        "print a[2:]"
      ],
      "execution_count": 0,
      "outputs": []
    },
    {
      "cell_type": "code",
      "metadata": {
        "id": "tAugLyCBIoje",
        "colab_type": "code",
        "colab": {}
      },
      "source": [
        "# slice items between indexes \n",
        "#import numpy as np \n",
        "a = np.arange(10) \n",
        "print a[2:5]"
      ],
      "execution_count": 0,
      "outputs": []
    },
    {
      "cell_type": "code",
      "metadata": {
        "id": "8B-AFKCsJ8Cq",
        "colab_type": "code",
        "colab": {}
      },
      "source": [
        "a = np.array([[1,2,3],[3,4,5],[4,5,6]]) \n",
        "print (a)\n",
        "\n",
        "# slice items starting from index\n",
        "print ('Now we will slice the array from the index a[1:]') \n",
        "print (a[1:])"
      ],
      "execution_count": 0,
      "outputs": []
    },
    {
      "cell_type": "markdown",
      "metadata": {
        "id": "5S3xCwJRKNcf",
        "colab_type": "text"
      },
      "source": [
        "Slicing can also include ellipsis (…) to make a selection tuple of the same length as the dimension of an array. If ellipsis is used at the row position, it will return an ndarray comprising of items in rows.\n",
        "\n",
        "(**...** ,**col**)--> This notation extracts ndarray from given column\n",
        "\n",
        "(**row**, **...**)--> This notation extracts ndarray from given row\n",
        "\n",
        "(**...** ,**col \\:**)--> This notation extracts ndarray from given column onwards\n",
        "\n",
        "(**row \\:** , **...**)--> This notation extracts ndarray from given row onwards"
      ]
    },
    {
      "cell_type": "code",
      "metadata": {
        "id": "2C6l7YPQK-DV",
        "colab_type": "code",
        "colab": {}
      },
      "source": [
        "NumPy - Broadcastinga = np.array([[1,2,3],[3,4,5],[4,5,6]]) \n",
        "\n",
        "print ('Our array is:') \n",
        "print (a) \n",
        "print ('\\n')\n",
        "\n",
        "# this returns array of items in the second column \n",
        "print ('The items in the second column are:')\n",
        "print (a[...,1])\n",
        "print ('\\n')\n",
        "\n",
        "# Now we will slice all items from the second row \n",
        "print ('The items in the second row are:')\n",
        "print (a[1,...])\n",
        "print ('\\n')  \n",
        "\n",
        "# Now we will slice all items from column 1 onwards \n",
        "print ('The items from column 1 onwards are:')\n",
        "print (a[...,1:])\n",
        "\n",
        "print ('The items from row 1 onwards are:')\n",
        "print (a[1:,...])\n",
        "print ('\\n')"
      ],
      "execution_count": 0,
      "outputs": []
    },
    {
      "cell_type": "code",
      "metadata": {
        "id": "d_CnerHJR2vd",
        "colab_type": "code",
        "colab": {}
      },
      "source": [
        "import numpy as np\n",
        "\n",
        "# Create the following rank 2 array with shape (3, 4)\n",
        "# [[ 1  2  3  4]\n",
        "#  [ 5  6  7  8]\n",
        "#  [ 9 10 11 12]]\n",
        "a = np.array([[1,2,3,4], [5,6,7,8], [9,10,11,12]])\n",
        "\n",
        "# Use slicing to pull out the subarray consisting of the first 2 rows\n",
        "# and columns 1 and 2; b is the following array of shape (2, 2):\n",
        "# [[2 3]\n",
        "#  [6 7]]\n",
        "b = a[:2, 1:3]\n",
        "print(b)\n",
        "# A slice of an array is a view into the same data, so modifying it\n",
        "# will modify the original array.\n",
        "print(a[0, 1])   # Prints \"2\"\n",
        "b[0, 0] = 77     # b[0, 0] is the same piece of data as a[0, 1]. The assignment of 77 to b[0,0] changes a[0,1]\n",
        "                 #Since, the location of b[0,0]=a[0,1] are same.\n",
        "print(a[0, 1])   # Prints \"77\"\n",
        "print(a)"
      ],
      "execution_count": 0,
      "outputs": []
    },
    {
      "cell_type": "code",
      "metadata": {
        "id": "24XunZbvUP7J",
        "colab_type": "code",
        "colab": {}
      },
      "source": [
        "import numpy as np\n",
        "\n",
        "# Create the following rank 2 array with shape (3, 4)\n",
        "# [[ 1  2  3  4]\n",
        "#  [ 5  6  7  8]\n",
        "#  [ 9 10 11 12]]\n",
        "a = np.array([[1,2,3,4], [5,6,7,8], [9,10,11,12]])\n",
        "\n",
        "# Two ways of accessing the data in the middle row of the array.\n",
        "# Mixing integer indexing with slices yields an array of lower rank,\n",
        "# while using only slices yields an array of the same rank as the\n",
        "# original array:\n",
        "row_r1 = a[1, :]    # Rank 1 view of the second row of a\n",
        "row_r2 = a[1:2, :]  # Rank 2 view of the second row of a\n",
        "print(row_r1, row_r1.shape)  # Prints \"[5 6 7 8] (4,)\"\n",
        "print(row_r2, row_r2.shape)  # Prints \"[[5 6 7 8]] (1, 4)\"\n",
        "row_r2 = a[1:, :]  # Rank 2 view of the second row of a\n",
        "print(row_r2, row_r2.shape)  # Prints \"[[5 6 7 8]] (1, 4)\"\n",
        "# We can make the same distinction when accessing columns of an array:\n",
        "col_r1 = a[:, 1]\n",
        "col_r2 = a[:, 1:2]\n",
        "print(col_r1, col_r1.shape)  # Prints \"[ 2  6 10] (3,)\"\n",
        "print(col_r2, col_r2.shape)  # Prints \"[[ 2]\n",
        "                             #          [ 6]\n",
        "                             #          [10]] (3, 1)\""
      ],
      "execution_count": 0,
      "outputs": []
    },
    {
      "cell_type": "code",
      "metadata": {
        "id": "vnSxneQFV9dh",
        "colab_type": "code",
        "colab": {}
      },
      "source": [
        "import numpy as np\n",
        "\n",
        "a = np.array([[1,2], [3, 4], [5, 6]])\n",
        "\n",
        "# An example of integer array indexing.\n",
        "# The returned array will have shape (3,) and\n",
        "print(a[[0, 1, 2], [0, 1, 0]])  # Prints \"[1 4 5]\"\n",
        "\n",
        "# The above example of integer array indexing is equivalent to this:\n",
        "print(np.array([a[0, 0], a[1, 1], a[2, 0]]))  # Prints \"[1 4 5]\"\n",
        "\n",
        "# When using integer array indexing, you can reuse the same\n",
        "# element from the source array:\n",
        "print(a[[0, 0], [1, 1]])  # Prints \"[2 2]\"\n",
        "\n",
        "# Equivalent to the previous integer array indexing example\n",
        "print(np.array([a[0, 1], a[0, 1]]))  # Prints \"[2 2]\""
      ],
      "execution_count": 0,
      "outputs": []
    },
    {
      "cell_type": "markdown",
      "metadata": {
        "id": "5YXrj3XoCp6i",
        "colab_type": "text"
      },
      "source": [
        "# **NumPy - Broadcasting**\n",
        "\n",
        "The term **broadcasting** refers to the ability of NumPy to treat arrays of different shapes during arithmetic operations. \n",
        "\n",
        "Arithmetic operations on arrays are usually done on corresponding elements. \n",
        "\n",
        "If two arrays are of exactly the same shape, then these operations are smoothly performed."
      ]
    },
    {
      "cell_type": "code",
      "metadata": {
        "id": "MCoAf1wmDBZz",
        "colab_type": "code",
        "outputId": "9c3211a0-b6be-4265-c114-7437c0176fd5",
        "colab": {
          "base_uri": "https://localhost:8080/",
          "height": 35
        }
      },
      "source": [
        "import numpy as np \n",
        "a = np.array([1,2,3,4]) \n",
        "b = np.array([10,20,30,40]) \n",
        "c = a * b \n",
        "print (c)"
      ],
      "execution_count": 0,
      "outputs": [
        {
          "output_type": "stream",
          "text": [
            "[ 10  40  90 160]\n"
          ],
          "name": "stdout"
        }
      ]
    },
    {
      "cell_type": "code",
      "metadata": {
        "id": "r8ag-FN8DWM6",
        "colab_type": "code",
        "colab": {}
      },
      "source": [
        "import numpy as np \n",
        "a = np.array([[0.0,0.0,0.0],[10.0,10.0,10.0],[20.0,20.0,20.0],[30.0,30.0,30.0]]) \n",
        "b = np.array([1.0,2.0,3.0])  \n",
        "   \n",
        "print ('First array:')\n",
        "print (a) \n",
        "print ('\\n')\n",
        "   \n",
        "print ('Second array:')\n",
        "print (b) \n",
        "print ('\\n')\n",
        "   \n",
        "print ('First Array + Second Array')\n",
        "print (a + b)"
      ],
      "execution_count": 0,
      "outputs": []
    },
    {
      "cell_type": "markdown",
      "metadata": {
        "id": "W08sc6AoXnBr",
        "colab_type": "text"
      },
      "source": [
        "# **NumPy - Arithmetic Operations**"
      ]
    },
    {
      "cell_type": "code",
      "metadata": {
        "id": "Q_rzEsODXx4v",
        "colab_type": "code",
        "colab": {}
      },
      "source": [
        "import numpy as np \n",
        "a = np.arange(9,dtype ='f').reshape(3,3) \n",
        "\n",
        "print ('First array:')\n",
        "print (a) \n",
        "print ('\\n')\n",
        "\n",
        "print ('Second array:')\n",
        "b = np.array([10,10,10]) \n",
        "print (b)\n",
        "print ('\\n')\n",
        "\n",
        "print ('Add the two arrays:')\n",
        "print (np.add(a,b))\n",
        "print ('\\n')\n",
        "\n",
        "print ('Subtract the two arrays:')\n",
        "print (np.subtract(a,b))\n",
        "print ('\\n')\n",
        "\n",
        "print ('Multiply the two arrays:')\n",
        "print (np.multiply(a,b))\n",
        "print ('\\n')\n",
        "\n",
        "print ('Divide the two arrays:')\n",
        "print (np.divide(a,b))"
      ],
      "execution_count": 0,
      "outputs": []
    },
    {
      "cell_type": "code",
      "metadata": {
        "id": "gqBK3hTDaRwj",
        "colab_type": "code",
        "colab": {}
      },
      "source": [
        "#numpy.power()\n",
        "\n",
        "import numpy as np \n",
        "a = np.array([10,100,1000]) \n",
        "\n",
        "print ('Our array is:')\n",
        "print (a)\n",
        "print ('\\n')\n",
        "\n",
        "print ('Applying power function:')\n",
        "print (np.power(a,2))\n",
        "print ('\\n')  \n",
        "\n",
        "print ('Second array:')\n",
        "b = (np.array([1,2,3]))\n",
        "print (b)\n",
        "print ('\\n')\n",
        "\n",
        "print ('Applying power function again:')\n",
        "print (np.power(a,b))"
      ],
      "execution_count": 0,
      "outputs": []
    },
    {
      "cell_type": "code",
      "metadata": {
        "id": "kQTm6dl6adcW",
        "colab_type": "code",
        "colab": {}
      },
      "source": [
        "#numpy.mod() and numpy.remainder()\n",
        "import numpy as np \n",
        "a = np.array([10,20,30]) \n",
        "b = np.array([3,5,7]) \n",
        "\n",
        "print ('First array:')\n",
        "print (a)\n",
        "print ('\\n')\n",
        "\n",
        "print ('Second array:')\n",
        "print (b)\n",
        "print ('\\n')\n",
        "\n",
        "print ('Applying mod() function:')\n",
        "print (np.mod(a,b))\n",
        "print ('\\n')\n",
        "\n",
        "print ('Applying remainder() function:')\n",
        "print (np.remainder(a,b))"
      ],
      "execution_count": 0,
      "outputs": []
    },
    {
      "cell_type": "markdown",
      "metadata": {
        "id": "jmdv8xFobWV6",
        "colab_type": "text"
      },
      "source": [
        "# **NumPy - Statistical Functions**\n",
        "\n",
        "NumPy has quite a few useful statistical functions for finding minimum, maximum, percentile standard deviation and variance, etc.\n",
        "\n"
      ]
    },
    {
      "cell_type": "code",
      "metadata": {
        "id": "StctPF0Ubkj5",
        "colab_type": "code",
        "colab": {}
      },
      "source": [
        "#numpy.amin() and numpy.amax()\n",
        "import numpy as np \n",
        "a = np.array([[3,7,5],[8,4,3],[2,4,9]]) \n",
        "\n",
        "print ('Our array is:')\n",
        "print (a)\n",
        "print ('\\n')\n",
        "\n",
        "print ('Applying amin() function:')\n",
        "print (np.amin(a,1))\n",
        "print ('\\n')\n",
        "\n",
        "print ('Applying amin() function again:')\n",
        "print (np.amin(a,0))\n",
        "print ('\\n')\n",
        "\n",
        "print ('Applying amax() function:')\n",
        "print (np.amax(a))\n",
        "print ('\\n')\n",
        "\n",
        "print ('Applying amax() function again:')\n",
        "print (np.amax(a, axis = 0))"
      ],
      "execution_count": 0,
      "outputs": []
    },
    {
      "cell_type": "markdown",
      "metadata": {
        "id": "N2d3QtAmMfkv",
        "colab_type": "text"
      },
      "source": [
        "# **NumPy - Matplotlib**"
      ]
    },
    {
      "cell_type": "code",
      "metadata": {
        "id": "uECKQa7wMJ1_",
        "colab_type": "code",
        "colab": {}
      },
      "source": [
        "import numpy as np \n",
        "from matplotlib import pyplot as plt \n",
        "\n",
        "x = np.arange(1,11) \n",
        "y = 2 * x + 5 \n",
        "plt.title(\"Matplotlib demo\") \n",
        "plt.xlabel(\"x axis caption\") \n",
        "plt.ylabel(\"y axis caption\") \n",
        "plt.plot(x,y) \n",
        "plt.show()"
      ],
      "execution_count": 0,
      "outputs": []
    },
    {
      "cell_type": "code",
      "metadata": {
        "id": "lOqP8Ge0Mbut",
        "colab_type": "code",
        "colab": {}
      },
      "source": [
        "import numpy as np \n",
        "from matplotlib import pyplot as plt \n",
        "\n",
        "x = np.arange(1,11) \n",
        "y = 2 * x + 5 \n",
        "plt.title(\"Matplotlib demo\") \n",
        "plt.xlabel(\"x axis caption\") \n",
        "plt.ylabel(\"y axis caption\") \n",
        "plt.plot(x,y,\"ob\") \n",
        "plt.show() "
      ],
      "execution_count": 0,
      "outputs": []
    },
    {
      "cell_type": "code",
      "metadata": {
        "id": "78xUaQZhMvnq",
        "colab_type": "code",
        "colab": {}
      },
      "source": [
        "from matplotlib import pyplot as plt \n",
        "x = [5,8,10] \n",
        "y = [12,16,6]  \n",
        "\n",
        "x2 = [6,9,11] \n",
        "y2 = [6,15,7] \n",
        "plt.bar(x, y, align = 'center') \n",
        "plt.bar(x2, y2, color = 'g', align = 'center') \n",
        "plt.title('Bar graph') \n",
        "plt.ylabel('Y axis') \n",
        "plt.xlabel('X axis')  \n",
        "\n",
        "plt.show()"
      ],
      "execution_count": 0,
      "outputs": []
    }
  ]
}