{
  "nbformat": 4,
  "nbformat_minor": 0,
  "metadata": {
    "colab": {
      "name": "PandasIntroduction.ipynb",
      "provenance": []
    },
    "kernelspec": {
      "name": "python3",
      "display_name": "Python 3"
    }
  },
  "cells": [
    {
      "cell_type": "markdown",
      "metadata": {
        "id": "xye1h7gCawKs",
        "colab_type": "text"
      },
      "source": [
        "# **Python Pandas - Introduction**\n",
        "\n",
        "Pandas is an open-source Python Library providing high-performance data manipulation and analysis tool using its powerful data structures."
      ]
    },
    {
      "cell_type": "markdown",
      "metadata": {
        "id": "MBrI0krHa99H",
        "colab_type": "text"
      },
      "source": [
        "Pandas deals with the following three data structures\n",
        "\n",
        "\n",
        "**Series**\n",
        "\n",
        "**DataFrame**\n",
        "\n",
        "**Panel** \n",
        "\n",
        "\n",
        "<table class=\"table table-bordered\">\n",
        "<tr>\n",
        "<th style=\"text-align:center;\">Data Structure</th>\n",
        "<th style=\"text-align:center;\">Dimensions</th>\n",
        "<th style=\"text-align:center;\">Description</th>\n",
        "</tr>\n",
        "<tr>\n",
        "<td style=\"text-align:center;\">Series</td>\n",
        "<td style=\"text-align:center;\">1</td>\n",
        "<td style=\"text-align:center;\">1D labeled homogeneous array, sizeimmutable.</td>\n",
        "</tr>\n",
        "<tr>\n",
        "<td style=\"text-align:center;\">Data Frames</td>\n",
        "<td style=\"text-align:center;\">2</td>\n",
        "<td style=\"text-align:center;\">General 2D labeled, size-mutable tabular structure with potentially heterogeneously typed\n",
        "columns.</td>\n",
        "</tr>\n",
        "<tr>\n",
        "<td style=\"text-align:center;\">Panel</td>\n",
        "<td style=\"text-align:center;\">3</td>\n",
        "<td style=\"text-align:center;\">General 3D labeled, size-mutable array.</td>\n",
        "</tr>\n",
        "</table>\n",
        "\n",
        "<h3>Mutability</h3>\n",
        "<p>All Pandas data structures are value mutable (can be changed) and except Series all are size mutable. Series is size immutable.</p>\n",
        "<p><b>Note</b> &minus; DataFrame is widely used and one of the most important data structures. Panel is used much less.</p>\n",
        "<h2>Series</h2>\n",
        "<p>Series is a one-dimensional array like structure with homogeneous data. For example, the following series is a collection of integers 10, 23, 56, …</p>\n",
        "<table class=\"table table-bordered\">\n",
        "<tr>\n",
        "<td style=\"text-align:center;\">10</td>\n",
        "<td style=\"text-align:center;\">23</td>\n",
        "<td style=\"text-align:center;\">56</td>\n",
        "<td style=\"text-align:center;\">17</td>\n",
        "<td style=\"text-align:center;\">52</td>\n",
        "<td style=\"text-align:center;\">61</td>\n",
        "<td style=\"text-align:center;\">73</td>\n",
        "<td style=\"text-align:center;\">90</td>\n",
        "<td style=\"text-align:center;\">26</td>\n",
        "<td style=\"text-align:center;\">72</td>\n",
        "</tr>\n",
        "</table>\n",
        "<h3>Key Points</h3>\n",
        "<ul class=\"list\">\n",
        "<li>Homogeneous data</li>\n",
        "<li>Size Immutable</li>\n",
        "<li>Values of Data Mutable</li>\n",
        "</ul>\n",
        "<h2>DataFrame</h2>\n",
        "<p>DataFrame is a two-dimensional array with heterogeneous data. For example,</p>\n",
        "<table class=\"table table-bordered\">\n",
        "<tr>\n",
        "<th style=\"text-align:center;\">Name</th>\n",
        "<th style=\"text-align:center;\">Age</th>\n",
        "<th style=\"text-align:center;\">Gender</th>\n",
        "<th style=\"text-align:center;\">Rating</th>\n",
        "</tr>\n",
        "<tr>\n",
        "<td style=\"text-align:center;\">Steve</td>\n",
        "<td style=\"text-align:center;\">32</td>\n",
        "<td style=\"text-align:center;\">Male</td>\n",
        "<td style=\"text-align:center;\">3.45</td>\n",
        "</tr>\n",
        "<tr>\n",
        "<td style=\"text-align:center;\">Lia</td>\n",
        "<td style=\"text-align:center;\">28</td>\n",
        "<td style=\"text-align:center;\">Female</td>\n",
        "<td style=\"text-align:center;\">4.6</td>\n",
        "</tr>\n",
        "<tr>\n",
        "<td style=\"text-align:center;\">Vin</td>\n",
        "<td style=\"text-align:center;\">45</td>\n",
        "<td style=\"text-align:center;\">Male</td>\n",
        "<td style=\"text-align:center;\">3.9</td>\n",
        "</tr>\n",
        "<tr>\n",
        "<td style=\"text-align:center;\">Katie</td>\n",
        "<td style=\"text-align:center;\">38</td>\n",
        "<td style=\"text-align:center;\">Female</td>\n",
        "<td style=\"text-align:center;\">2.78</td>\n",
        "</tr>\n",
        "</table>\n",
        "\n",
        "<h2>Panel</h2>\n",
        "<p>Panel is a three-dimensional data structure with heterogeneous data. It is hard to represent the panel in graphical representation. But a panel can be illustrated as a container of DataFrame.</p>\n",
        "\n"
      ]
    },
    {
      "cell_type": "markdown",
      "metadata": {
        "id": "v1h_ozirb7tr",
        "colab_type": "text"
      },
      "source": [
        "# **Data Frames**\n",
        "\n",
        "<h2>Create DataFrame</h2>\n",
        "<p>A pandas DataFrame can be created using various inputs like &minus;</p>\n",
        "<ul class=\"list\">\n",
        "<li>Lists</li>\n",
        "<li>dict</li>\n",
        "<li>Series</li>\n",
        "<li>Numpy ndarrays</li>\n",
        "<li>Another DataFrame</li>"
      ]
    },
    {
      "cell_type": "code",
      "metadata": {
        "id": "M3u9JMpMcYo6",
        "colab_type": "code",
        "colab": {}
      },
      "source": [
        "#import the pandas library and aliasing as pd\n",
        "import pandas as pd\n",
        "df = pd.DataFrame()\n",
        "print (df)"
      ],
      "execution_count": 0,
      "outputs": []
    },
    {
      "cell_type": "code",
      "metadata": {
        "id": "taAL2BZDcfQ-",
        "colab_type": "code",
        "colab": {}
      },
      "source": [
        "#Create a DataFrame from Lists\n",
        "import pandas as pd\n",
        "data = [1,2,3,4,5]\n",
        "df = pd.DataFrame(data)\n",
        "print (df)"
      ],
      "execution_count": 0,
      "outputs": []
    },
    {
      "cell_type": "code",
      "metadata": {
        "id": "r538eJkkco0l",
        "colab_type": "code",
        "colab": {}
      },
      "source": [
        "import pandas as pd\n",
        "data = [['Alex',10],['Bob',12],['Clarke',13]]\n",
        "df = pd.DataFrame(data,columns=['Name','Age'])\n",
        "print (df)"
      ],
      "execution_count": 0,
      "outputs": []
    },
    {
      "cell_type": "code",
      "metadata": {
        "id": "zxkbnjp9cwvJ",
        "colab_type": "code",
        "colab": {}
      },
      "source": [
        "import pandas as pd\n",
        "data = [['Alex',10],['Bob',12],['Clarke',13]]\n",
        "df = pd.DataFrame(data,columns=['Name','Age'],dtype=float)\n",
        "print (df)"
      ],
      "execution_count": 0,
      "outputs": []
    },
    {
      "cell_type": "code",
      "metadata": {
        "id": "XRWNdW2Wc-ul",
        "colab_type": "code",
        "colab": {}
      },
      "source": [
        "#Create a DataFrame from Dict of ndarrays / Lists\n",
        "import pandas as pd\n",
        "data = {'Name':['Tom', 'Jack', 'Steve', 'Ricky'],'Age':[28,34,29,42]}\n",
        "df = pd.DataFrame(data)\n",
        "print (df)"
      ],
      "execution_count": 0,
      "outputs": []
    },
    {
      "cell_type": "code",
      "metadata": {
        "id": "yOVAkUhJdDEm",
        "colab_type": "code",
        "colab": {}
      },
      "source": [
        ""
      ],
      "execution_count": 0,
      "outputs": []
    }
  ]
}