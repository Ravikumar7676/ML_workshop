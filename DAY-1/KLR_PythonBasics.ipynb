{
 "cells": [
  {
   "cell_type": "markdown",
   "metadata": {
    "colab_type": "text",
    "id": "vDhwomhxqsVh"
   },
   "source": [
    "# **What is Python?**\n",
    "\n",
    "Python is a popular programming language. It was created by **Guido van Rossum**, and released in 1991.\n",
    "\n",
    "It is used for:\n",
    "\n",
    "\n",
    "\n",
    "*   software development,\n",
    "\n",
    "*   web development (server-side),\n",
    "*   mathematics,\n",
    "*   system scripting.\n",
    "\n",
    "\n",
    "\n",
    "\n",
    "**Python Syntax compared to other programming languages**\n",
    "\n",
    "\n",
    "*   Python was designed for readability, and has some similarities to the English language with influence from mathematics.\n",
    "*   Python uses new lines to complete a command, as opposed to other programming languages which often use semicolons or parentheses.\n",
    "\n",
    "\n",
    "*  Python relies on **indentation**, using whitespace, to define scope; such as the scope of loops, functions and classes. Other programming languages often use curly-brackets for this purpose.\n",
    "\n",
    "**Execute Python Syntax**\n",
    "Python syntax can be executed by writing directly in the Command Line:\n",
    "\n",
    "**\\>>>print(\"Hello, World!\")**\n",
    "\n",
    "\n",
    "Hello, World!\n",
    "\n",
    "Or by creating a python file, using the **.py **file extension, and running it in the Command Line:\n",
    "\n",
    "**C:\\Users\\Your Name>python myfile.py**\n",
    "\n",
    "\n",
    "**Python Indentation**\n",
    "\n",
    "Indentation refers to the spaces at the beginning of a code line.\n",
    "\n",
    "Where in other programming languages the indentation in code is for readability only, the indentation in Python is very important.\n",
    "\n",
    "Python uses indentation to indicate a block of code.\n",
    "\n",
    "Example\n",
    "\n",
    "\n",
    "\n",
    "\n"
   ]
  },
  {
   "cell_type": "code",
   "execution_count": null,
   "metadata": {
    "colab": {},
    "colab_type": "code",
    "id": "u8JEcjieqdPw"
   },
   "outputs": [],
   "source": [
    "\n",
    "if 5 > 2:\n",
    "  print(\"Five is greater than two!\")"
   ]
  },
  {
   "cell_type": "code",
   "execution_count": null,
   "metadata": {
    "colab": {},
    "colab_type": "code",
    "id": "I4q1vNc8rDPJ"
   },
   "outputs": [],
   "source": [
    "##Syntax Error:\n",
    "\n",
    "if 5 > 2:\n",
    "print(\"Five is greater than two!\")"
   ]
  },
  {
   "cell_type": "code",
   "execution_count": null,
   "metadata": {
    "colab": {},
    "colab_type": "code",
    "id": "5FYU51RorUXd"
   },
   "outputs": [],
   "source": [
    "##The number of spaces is up to you as a programmer, but it has to be at least one.\n",
    "\n",
    "##Example\n",
    "if 5 > 2:\n",
    " print(\"Five is greater than two!\") \n",
    "if 5 > 2:\n",
    "        print(\"Five is greater than two!\") "
   ]
  },
  {
   "cell_type": "code",
   "execution_count": null,
   "metadata": {
    "colab": {},
    "colab_type": "code",
    "id": "EEQJJe1urjXV"
   },
   "outputs": [],
   "source": [
    "##You have to use the same number of spaces in the same block of code, otherwise Python will give you an error:\n",
    "\n",
    "##Example\n",
    "##Syntax Error:\n",
    "\n",
    "if 5 > 2:\n",
    " print(\"Five is greater than two!\")\n",
    "        print(\"Five is greater than two!\")"
   ]
  },
  {
   "cell_type": "markdown",
   "metadata": {
    "colab_type": "text",
    "id": "qDI1jcGVsNGU"
   },
   "source": [
    "**Python Comments**\n",
    "\n",
    "Comments can be used to explain Python code.\n",
    "\n",
    "Comments can be used to make the code more readable.\n",
    "\n",
    "Comments can be used to prevent execution when testing code.\n",
    "\n",
    "**Creating a Comment**\n",
    "\n",
    "Comments starts with a #, and Python will ignore them:\n",
    "\n",
    "Example:"
   ]
  },
  {
   "cell_type": "code",
   "execution_count": null,
   "metadata": {
    "colab": {},
    "colab_type": "code",
    "id": "xKcgIN60sjFJ"
   },
   "outputs": [],
   "source": [
    "#This is a comment\n",
    "print(\"Hello, World!\")"
   ]
  },
  {
   "cell_type": "code",
   "execution_count": null,
   "metadata": {
    "colab": {},
    "colab_type": "code",
    "id": "HH7qtCXzswIp"
   },
   "outputs": [],
   "source": [
    "#Comments can be placed at the end of a line as given below, and Python will ignore the rest of the line:\n",
    "print(\"Hello, World!\") #This is a comment"
   ]
  },
  {
   "cell_type": "code",
   "execution_count": null,
   "metadata": {
    "colab": {},
    "colab_type": "code",
    "id": "SYsJGuMCtA3U"
   },
   "outputs": [],
   "source": [
    "#Comments can also be used to prevent Python from executing code as given below:\n",
    "#print(\"Hello, World!\")\n",
    "print(\"Cheers, Mate!\")"
   ]
  },
  {
   "cell_type": "markdown",
   "metadata": {
    "colab_type": "text",
    "id": "pvYclCVvtSmh"
   },
   "source": [
    "**Multi Line Comments**"
   ]
  },
  {
   "cell_type": "code",
   "execution_count": null,
   "metadata": {
    "colab": {},
    "colab_type": "code",
    "id": "MX5bCZSQtdEf"
   },
   "outputs": [],
   "source": [
    "#This is a comment\n",
    "#written in\n",
    "#more than just one line\n",
    "print(\"Hello, World!\")"
   ]
  },
  {
   "cell_type": "markdown",
   "metadata": {
    "colab_type": "text",
    "id": "3qmZhfSoto9k"
   },
   "source": [
    "Or, not quite as intended, you can use a multiline string.\n",
    "\n",
    "Since Python will **ignore string literals that are not assigned to a variable**, you can add a multiline string in your code by placeing your comment inside **triple quotes**:"
   ]
  },
  {
   "cell_type": "code",
   "execution_count": null,
   "metadata": {
    "colab": {},
    "colab_type": "code",
    "id": "V92dQNR5uNKv"
   },
   "outputs": [],
   "source": [
    "\"\"\"\n",
    "This is a comment\n",
    "written in\n",
    "more than just one line\n",
    "\"\"\"\n",
    "print(\"Hello, World!\")"
   ]
  },
  {
   "cell_type": "markdown",
   "metadata": {
    "colab_type": "text",
    "id": "hASmfNv3vNNG"
   },
   "source": [
    "**Creating Variables**\n",
    "\n",
    "Variables are containers for storing data values.\n",
    "\n",
    "Unlike other programming languages, Python has no command for declaring a variable.\n",
    "\n",
    "A variable is created the moment you first assign a value to it."
   ]
  },
  {
   "cell_type": "code",
   "execution_count": null,
   "metadata": {
    "colab": {},
    "colab_type": "code",
    "id": "hh38h0dtvShf"
   },
   "outputs": [],
   "source": [
    "x = 5\n",
    "y = \"John\"\n",
    "print(x)\n",
    "print(y)"
   ]
  },
  {
   "cell_type": "markdown",
   "metadata": {
    "colab_type": "text",
    "id": "xGA5GI6AvXiy"
   },
   "source": [
    "**Variables do not need to be declared with any particular type and can even change type after they have been set.**"
   ]
  },
  {
   "cell_type": "code",
   "execution_count": null,
   "metadata": {
    "colab": {},
    "colab_type": "code",
    "id": "5v4Xi77lvZA9"
   },
   "outputs": [],
   "source": [
    "x = 4 # x is of type int\n",
    "print(x)\n",
    "x = \"Sally\" # x is now of type str\n",
    "print(x)"
   ]
  },
  {
   "cell_type": "markdown",
   "metadata": {
    "colab_type": "text",
    "id": "GeUPIXr7vntb"
   },
   "source": [
    "**String variables can be declared either by using single or double quotes:**"
   ]
  },
  {
   "cell_type": "code",
   "execution_count": null,
   "metadata": {
    "colab": {},
    "colab_type": "code",
    "id": "iOegiRBmvqFa"
   },
   "outputs": [],
   "source": [
    "x = \"John\"\n",
    "# is the same as\n",
    "x = 'John'"
   ]
  },
  {
   "cell_type": "markdown",
   "metadata": {
    "colab_type": "text",
    "id": "6IVeYOzXv4Tw"
   },
   "source": [
    "**Variable Names**\n",
    "\n",
    "A variable can have a short name (like x and y) or a more descriptive name (age, carname, total_volume). Rules for Python variables:\n",
    "\n",
    "\n",
    "\n",
    "*   A variable name must start with a letter or the underscore character\n",
    "*   A variable name cannot start with a number\n",
    "*   A variable name can only contain alpha-numeric characters and underscores (A-z, 0-9, and _ )\n",
    "*   **Variable names are case-sensitive** (age, Age and AGE are three different variables)"
   ]
  },
  {
   "cell_type": "markdown",
   "metadata": {
    "colab_type": "text",
    "id": "9f9qwFLvwc_X"
   },
   "source": [
    "**Assign Value to Multiple Variables**\n",
    "\n",
    "Python allows you to assign values to multiple variables in one line:"
   ]
  },
  {
   "cell_type": "code",
   "execution_count": null,
   "metadata": {
    "colab": {},
    "colab_type": "code",
    "id": "CUkTmraGwh1i"
   },
   "outputs": [],
   "source": [
    "x, y, z = \"Orange\", \"Banana\", \"Cherry\"\n",
    "print(x)\n",
    "print(y)\n",
    "print(z)"
   ]
  },
  {
   "cell_type": "markdown",
   "metadata": {
    "colab_type": "text",
    "id": "rBqefFF8wmJ3"
   },
   "source": [
    "**And you can assign the same value to multiple variables in one line:**"
   ]
  },
  {
   "cell_type": "code",
   "execution_count": null,
   "metadata": {
    "colab": {},
    "colab_type": "code",
    "id": "OhqPv_53woLb"
   },
   "outputs": [],
   "source": [
    "x = y = z = \"Orange\"\n",
    "print(x)\n",
    "print(y)\n",
    "print(z)"
   ]
  },
  {
   "cell_type": "markdown",
   "metadata": {
    "colab_type": "text",
    "id": "I7aZEdXGwwJx"
   },
   "source": [
    "**Output Variables**\n",
    "\n",
    "The Python print statement is often used to output variables.\n",
    "\n",
    "To combine both text and a variable, Python uses the + character:"
   ]
  },
  {
   "cell_type": "code",
   "execution_count": null,
   "metadata": {
    "colab": {},
    "colab_type": "code",
    "id": "0IgpgwXAw0D0"
   },
   "outputs": [],
   "source": [
    "x = \"awesome\"\n",
    "print(\"Python is \" + x)\n",
    "\n",
    "# You can also use the + character to add a variable to another variable\n",
    "x = \"Python is \"\n",
    "y = \"awesome\"\n",
    "z =  x + y\n",
    "print(z)"
   ]
  },
  {
   "cell_type": "markdown",
   "metadata": {
    "colab_type": "text",
    "id": "9cU7nA1MxEDS"
   },
   "source": [
    "**For numbers, the + character works as a mathematical operator:**"
   ]
  },
  {
   "cell_type": "code",
   "execution_count": null,
   "metadata": {
    "colab": {},
    "colab_type": "code",
    "id": "iacGkhcKxJiY"
   },
   "outputs": [],
   "source": [
    "x = 5\n",
    "y = 10\n",
    "print(x + y)"
   ]
  },
  {
   "cell_type": "markdown",
   "metadata": {
    "colab_type": "text",
    "id": "Ekhhi2mRxLp-"
   },
   "source": [
    "**If you try to combine a string and a number, Python will give you an error:**"
   ]
  },
  {
   "cell_type": "code",
   "execution_count": null,
   "metadata": {
    "colab": {},
    "colab_type": "code",
    "id": "fuaVRghtxPMo"
   },
   "outputs": [],
   "source": [
    "x = 5\n",
    "y = \"John\"\n",
    "print(x + y)"
   ]
  },
  {
   "cell_type": "markdown",
   "metadata": {
    "colab_type": "text",
    "id": "5oLXKR7WzTj1"
   },
   "source": [
    "**Built-in Data Types**\n",
    "\n",
    "In programming, data type is an important concept.\n",
    "\n",
    "Variables can store data of different types, and different types can do different things.\n",
    "\n",
    "Python has the following data types built-in by default, in these categories:\n",
    "\n",
    "Text Type:\t**str**\n",
    "\n",
    "Numeric Types:\t**int**, **float**, **complex**\n",
    "\n",
    "Sequence Types:\t**list**, **tuple**, **range**\n",
    "\n",
    "Mapping Type: **dict**\n",
    "\n",
    "Set Types:\t**set**, **frozenset**\n",
    "\n",
    "Boolean Type:\t**bool**\n",
    "\n",
    "Binary Types:\t**bytes**, **bytearray**, **memoryview**"
   ]
  },
  {
   "cell_type": "markdown",
   "metadata": {
    "colab_type": "text",
    "id": "rvzVAtsdz76H"
   },
   "source": [
    "**Getting the Data Type**\n",
    "\n",
    "You can get the data type of any object by using the **type()** function:"
   ]
  },
  {
   "cell_type": "code",
   "execution_count": null,
   "metadata": {
    "colab": {},
    "colab_type": "code",
    "id": "DybtI6Mbz_fs"
   },
   "outputs": [],
   "source": [
    "#Print the data type of the variable x:\n",
    "x = 5\n",
    "print(type(x))"
   ]
  },
  {
   "cell_type": "markdown",
   "metadata": {
    "colab_type": "text",
    "id": "dwSi94ke0Jam"
   },
   "source": [
    "**Setting the Data Type**\n",
    "\n",
    "In Python, **the data type is set when you assign a value to a variable:**"
   ]
  },
  {
   "cell_type": "code",
   "execution_count": null,
   "metadata": {
    "colab": {},
    "colab_type": "code",
    "id": "uCaJFsNO0Pcu"
   },
   "outputs": [],
   "source": [
    "#str\n",
    "x = \"Hello World\"\n",
    "\n",
    "#display x:\n",
    "print(x)\n",
    "\n",
    "#display the data type of x:\n",
    "print(type(x)) "
   ]
  },
  {
   "cell_type": "code",
   "execution_count": null,
   "metadata": {
    "colab": {},
    "colab_type": "code",
    "id": "DfrzoqsB0i3g"
   },
   "outputs": [],
   "source": [
    "#int\n",
    "x = 5\n",
    "\n",
    "#display x:\n",
    "print(x)\n",
    "\n",
    "#display the data type of x:\n",
    "print(type(x))"
   ]
  },
  {
   "cell_type": "code",
   "execution_count": null,
   "metadata": {
    "colab": {},
    "colab_type": "code",
    "id": "A0p8RfPl0pnu"
   },
   "outputs": [],
   "source": [
    "#float\n",
    "x = 5.5\n",
    "\n",
    "#display x:\n",
    "print(x)\n",
    "\n",
    "#display the data type of x:\n",
    "print(type(x))"
   ]
  },
  {
   "cell_type": "code",
   "execution_count": null,
   "metadata": {
    "colab": {},
    "colab_type": "code",
    "id": "tbHwvEfb0uYE"
   },
   "outputs": [],
   "source": [
    "#Complex\n",
    "x = 2j\n",
    "\n",
    "#display x:\n",
    "print(x)\n",
    "\n",
    "#display the data type of x:\n",
    "print(type(x))"
   ]
  },
  {
   "cell_type": "code",
   "execution_count": null,
   "metadata": {
    "colab": {},
    "colab_type": "code",
    "id": "_5eKSGXf01_j"
   },
   "outputs": [],
   "source": [
    "#List\n",
    "x = [\"apple\", \"banana\", \"cherry\"]\n",
    "\n",
    "#display x:\n",
    "print(x)\n",
    "\n",
    "#display the data type of x:\n",
    "print(type(x))"
   ]
  },
  {
   "cell_type": "code",
   "execution_count": null,
   "metadata": {
    "colab": {},
    "colab_type": "code",
    "id": "0MZGCQq308fk"
   },
   "outputs": [],
   "source": [
    "#tuple\n",
    "x = (\"apple\", \"banana\", \"cherry\")\n",
    "\n",
    "#display x:\n",
    "print(x)\n",
    "\n",
    "#display the data type of x:\n",
    "print(type(x))\n"
   ]
  },
  {
   "cell_type": "code",
   "execution_count": null,
   "metadata": {
    "colab": {},
    "colab_type": "code",
    "id": "Ns-evmZB1HZ5"
   },
   "outputs": [],
   "source": [
    "#range\n",
    "x = range(6)\n",
    "\n",
    "#display x:\n",
    "print(x)\n",
    "\n",
    "#display the data type of x:\n",
    "print(type(x))"
   ]
  },
  {
   "cell_type": "code",
   "execution_count": null,
   "metadata": {
    "colab": {},
    "colab_type": "code",
    "id": "8AitvYCC1URN"
   },
   "outputs": [],
   "source": [
    "#dist\n",
    "x = {\"name\" : \"John\", \"age\" : 36}\n",
    "\n",
    "#display x:\n",
    "print(x)\n",
    "\n",
    "#display the data type of x:\n",
    "print(type(x))"
   ]
  },
  {
   "cell_type": "code",
   "execution_count": null,
   "metadata": {
    "colab": {},
    "colab_type": "code",
    "id": "AfIqFHqj1aKo"
   },
   "outputs": [],
   "source": [
    "#set\n",
    "x = {\"apple\", \"banana\", \"cherry\"}\n",
    "\n",
    "#display x:\n",
    "print(x)\n",
    "\n",
    "#display the data type of x:\n",
    "print(type(x))"
   ]
  },
  {
   "cell_type": "markdown",
   "metadata": {},
   "source": [
    "**Frozen set** is just an **immutable** version of a Python set object. \n",
    "\n",
    "While elements of a **set** can be modified at any time, elements of **frozen set** remains the same after creation."
   ]
  },
  {
   "cell_type": "code",
   "execution_count": null,
   "metadata": {
    "colab": {},
    "colab_type": "code",
    "id": "jgNPg2e01lBB"
   },
   "outputs": [],
   "source": [
    "#frozenset\n",
    "x = frozenset({\"apple\", \"banana\", \"cherry\"})\n",
    "\n",
    "#display x:\n",
    "print(x)\n",
    "\n",
    "#display the data type of x:\n",
    "print(type(x))"
   ]
  },
  {
   "cell_type": "code",
   "execution_count": null,
   "metadata": {
    "colab": {},
    "colab_type": "code",
    "id": "OW1i08ZD1rdm"
   },
   "outputs": [],
   "source": [
    "#boolean\n",
    "x = True\n",
    "\n",
    "#display x:\n",
    "print(x)\n",
    "\n",
    "#display the data type of x:\n",
    "print(type(x))"
   ]
  },
  {
   "cell_type": "code",
   "execution_count": null,
   "metadata": {
    "colab": {},
    "colab_type": "code",
    "id": "VGNhGBho1zba"
   },
   "outputs": [],
   "source": [
    "#bytes\n",
    "x = b\"Hello\"\n",
    "\n",
    "#display x:\n",
    "print(x)\n",
    "\n",
    "#display the data type of x:\n",
    "print(type(x))"
   ]
  },
  {
   "cell_type": "code",
   "execution_count": null,
   "metadata": {
    "colab": {},
    "colab_type": "code",
    "id": "poYuS5lY17TR"
   },
   "outputs": [],
   "source": [
    "#bytearray\n",
    "x = bytearray(5)\n",
    "\n",
    "#display x:\n",
    "print(x)\n",
    "\n",
    "#display the data type of x:\n",
    "print(type(x))"
   ]
  },
  {
   "cell_type": "code",
   "execution_count": null,
   "metadata": {
    "colab": {},
    "colab_type": "code",
    "id": "cM7BOh782Cr9"
   },
   "outputs": [],
   "source": [
    "#memoryview\n",
    "x = memoryview(bytes(5))\n",
    "\n",
    "#display x:\n",
    "print(x)\n",
    "\n",
    "#display the data type of x:\n",
    "print(type(x))"
   ]
  },
  {
   "cell_type": "markdown",
   "metadata": {
    "colab_type": "text",
    "id": "uVsW8fNfDIjy"
   },
   "source": [
    "**Setting the Specific Data Type**\n",
    "\n",
    "If you want to specify the data type, you can use the following constructor functions:"
   ]
  },
  {
   "cell_type": "code",
   "execution_count": null,
   "metadata": {
    "colab": {},
    "colab_type": "code",
    "id": "s2w-E5GHjDZY"
   },
   "outputs": [],
   "source": [
    "##str type\n",
    "x = str(\"Hello World\")\n",
    "\n",
    "#display x:\n",
    "print(x)\n",
    "\n",
    "#display the data type of x:\n",
    "print(type(x)) "
   ]
  },
  {
   "cell_type": "code",
   "execution_count": null,
   "metadata": {
    "colab": {},
    "colab_type": "code",
    "id": "jN61lyjEjIzg"
   },
   "outputs": [],
   "source": [
    "##int type\n",
    "x = int(20)\n",
    "\n",
    "#display x:\n",
    "print(x)\n",
    "\n",
    "#display the data type of x:\n",
    "print(type(x)) "
   ]
  },
  {
   "cell_type": "code",
   "execution_count": null,
   "metadata": {
    "colab": {},
    "colab_type": "code",
    "id": "_gcJihP-jYqw"
   },
   "outputs": [],
   "source": [
    "##float type\n",
    "x = float(20.45)\n",
    "\n",
    "#display x:\n",
    "print(x)\n",
    "\n",
    "#display the data type of x:\n",
    "print(type(x)) "
   ]
  },
  {
   "cell_type": "code",
   "execution_count": null,
   "metadata": {
    "colab": {},
    "colab_type": "code",
    "id": "6WUdT7Pbjgof"
   },
   "outputs": [],
   "source": [
    "##complex type\n",
    "x = complex(1j)\n",
    "\n",
    "#display x:\n",
    "print(x)\n",
    "\n",
    "#display the data type of x:\n",
    "print(type(x)) "
   ]
  },
  {
   "cell_type": "code",
   "execution_count": null,
   "metadata": {
    "colab": {},
    "colab_type": "code",
    "id": "Wb9h26EVj2V3"
   },
   "outputs": [],
   "source": [
    "##list type\n",
    "x = list((\"apple\", \"banana\", \"cherry\"))\n",
    "\n",
    "#display x:\n",
    "print(x)\n",
    "\n",
    "#display the data type of x:\n",
    "print(type(x)) "
   ]
  },
  {
   "cell_type": "code",
   "execution_count": null,
   "metadata": {
    "colab": {},
    "colab_type": "code",
    "id": "Y2kJMzNOj-dc"
   },
   "outputs": [],
   "source": [
    "##tuple type\n",
    "x = tuple((\"apple\", \"banana\", \"cherry\"))\n",
    "\n",
    "#display x:\n",
    "print(x)\n",
    "\n",
    "#display the data type of x:\n",
    "print(type(x)) "
   ]
  },
  {
   "cell_type": "code",
   "execution_count": null,
   "metadata": {
    "colab": {},
    "colab_type": "code",
    "id": "mP4506rHkI-m"
   },
   "outputs": [],
   "source": [
    "##range type\n",
    "x = range(6)\n",
    "\n",
    "#display x:\n",
    "print(x)\n",
    "\n",
    "#display the data type of x:\n",
    "print(type(x)) "
   ]
  },
  {
   "cell_type": "code",
   "execution_count": null,
   "metadata": {
    "colab": {},
    "colab_type": "code",
    "id": "wi0czSMDkP91"
   },
   "outputs": [],
   "source": [
    "##dict type\n",
    "x = dict(name=\"John\", age=36)\n",
    "\n",
    "#display x:\n",
    "print(x)\n",
    "\n",
    "#display the data type of x:\n",
    "print(type(x)) "
   ]
  },
  {
   "cell_type": "code",
   "execution_count": null,
   "metadata": {
    "colab": {},
    "colab_type": "code",
    "id": "YfAtwL7LkWYF"
   },
   "outputs": [],
   "source": [
    "##set type\n",
    "x = set((\"apple\", \"banana\", \"cherry\"))\n",
    "\n",
    "#display x:\n",
    "print(x)\n",
    "\n",
    "#display the data type of x:\n",
    "print(type(x)) "
   ]
  },
  {
   "cell_type": "code",
   "execution_count": null,
   "metadata": {
    "colab": {},
    "colab_type": "code",
    "id": "-Ko9iq0CmFhA"
   },
   "outputs": [],
   "source": [
    "##frozenset type\n",
    "x = frozenset((\"apple\", \"banana\", \"cherry\"))\n",
    "\n",
    "#display x:\n",
    "print(x)\n",
    "\n",
    "#display the data type of x:\n",
    "print(type(x)) "
   ]
  },
  {
   "cell_type": "code",
   "execution_count": null,
   "metadata": {
    "colab": {},
    "colab_type": "code",
    "id": "N_CpopFsnFRU"
   },
   "outputs": [],
   "source": [
    "##boolean type\n",
    "x = bool(5)\n",
    "\n",
    "#display x:\n",
    "print(x)\n",
    "\n",
    "#display the data type of x:\n",
    "print(type(x))"
   ]
  },
  {
   "cell_type": "code",
   "execution_count": null,
   "metadata": {
    "colab": {},
    "colab_type": "code",
    "id": "TLmFcPwCnRwV"
   },
   "outputs": [],
   "source": [
    "##bytes type\n",
    "x = bytes(5)\n",
    "\n",
    "#display x:\n",
    "print(x)\n",
    "\n",
    "#display the data type of x:\n",
    "print(type(x))"
   ]
  },
  {
   "cell_type": "code",
   "execution_count": null,
   "metadata": {
    "colab": {},
    "colab_type": "code",
    "id": "Z_1ST6jgnczm"
   },
   "outputs": [],
   "source": [
    "##bytearray type\n",
    "x = bytearray(5)\n",
    "\n",
    "#display x:\n",
    "print(x)\n",
    "\n",
    "#display the data type of x:\n",
    "print(type(x))"
   ]
  },
  {
   "cell_type": "markdown",
   "metadata": {},
   "source": [
    "The **memoryview()** function allows direct read and write access to an object's byte-oriented data without needing to copy it first."
   ]
  },
  {
   "cell_type": "code",
   "execution_count": null,
   "metadata": {
    "colab": {},
    "colab_type": "code",
    "id": "Da83DTJtnlGk"
   },
   "outputs": [],
   "source": [
    "##memoryview type\n",
    "x = memoryview(bytes(5))\n",
    "\n",
    "#display x:\n",
    "print(x)\n",
    "\n",
    "#display the data type of x:\n",
    "print(type(x))"
   ]
  },
  {
   "cell_type": "markdown",
   "metadata": {
    "colab_type": "text",
    "id": "6W5DWUIvohIq"
   },
   "source": [
    "**Type Conversion**\n",
    "\n",
    "You can convert from one type to another with the int(), float(), and complex() methods:\n",
    "\n",
    "Example\n",
    "\n",
    "Convert from one type to another:"
   ]
  },
  {
   "cell_type": "code",
   "execution_count": null,
   "metadata": {
    "colab": {},
    "colab_type": "code",
    "id": "gfnnzdDYosy5"
   },
   "outputs": [],
   "source": [
    "x = 1 # int\n",
    "y = 2.8 # float\n",
    "z = 1j # complex\n",
    "\n",
    "#convert from int to float:\n",
    "a = float(x)\n",
    "\n",
    "#convert from float to int:\n",
    "b = int(y)\n",
    "\n",
    "#convert from int to complex:\n",
    "c = complex(x)\n",
    "\n",
    "print(a)\n",
    "print(b)\n",
    "print(c)\n",
    "\n",
    "print(type(a))\n",
    "print(type(b))\n",
    "print(type(c))"
   ]
  },
  {
   "cell_type": "markdown",
   "metadata": {
    "colab_type": "text",
    "id": "VN1DUbq2rTDH"
   },
   "source": [
    "# **Strings**"
   ]
  },
  {
   "cell_type": "code",
   "execution_count": null,
   "metadata": {
    "colab": {},
    "colab_type": "code",
    "id": "A4eEzFdTrhGJ"
   },
   "outputs": [],
   "source": [
    "#Assign Strings to a variable\n",
    "a = \"Hello\"\n",
    "print(a)\n",
    "a = 'Single Hello'\n",
    "print(a)\n",
    "\n",
    "# Multiline String\n",
    "\n",
    "a = \"\"\"Lorem ipsum dolor sit amet,\n",
    "consectetur adipiscing elit,\n",
    "sed do eiusmod tempor incididunt\n",
    "ut labore et dolore magna aliqua.\"\"\"\n",
    "print(a)\n",
    "\n"
   ]
  },
  {
   "cell_type": "markdown",
   "metadata": {
    "colab_type": "text",
    "id": "fJCLXxy0Q6Bb"
   },
   "source": [
    "# **String Concatenation**"
   ]
  },
  {
   "cell_type": "code",
   "execution_count": null,
   "metadata": {
    "colab": {},
    "colab_type": "code",
    "id": "8eHu4xpvQ_mu"
   },
   "outputs": [],
   "source": [
    "a = \"Hello\"\n",
    "b = \"World\"\n",
    "c = a + b\n",
    "print(c)\n",
    "\n",
    "a = \"Hello\"\n",
    "b = \"World\"\n",
    "c = a + \" \" + b\n",
    "print(c)"
   ]
  },
  {
   "cell_type": "markdown",
   "metadata": {
    "colab_type": "text",
    "id": "kfJ63BTMRPuE"
   },
   "source": [
    "# **String Format**\n",
    "\n",
    "\n",
    "As we learned in the Python Variables chapter, we cannot combine strings and numbers as given below. The below code **throws error**."
   ]
  },
  {
   "cell_type": "code",
   "execution_count": null,
   "metadata": {
    "colab": {},
    "colab_type": "code",
    "id": "0ioKAEE7RLzY"
   },
   "outputs": [],
   "source": [
    "age = 36\n",
    "txt = \"My name is John, I am \" + age\n",
    "print(txt)"
   ]
  },
  {
   "cell_type": "markdown",
   "metadata": {
    "colab_type": "text",
    "id": "BuUscPpQRrJt"
   },
   "source": [
    "# But we can combine strings and numbers by using the format() method!\n",
    "\n",
    "The format() method takes the passed arguments, formats them, and places them in the string where the placeholders {} are:"
   ]
  },
  {
   "cell_type": "code",
   "execution_count": null,
   "metadata": {
    "colab": {},
    "colab_type": "code",
    "id": "x12ww-baRw6s"
   },
   "outputs": [],
   "source": [
    "#Example1\n",
    "#Use the format() method to insert numbers into strings:\n",
    "\n",
    "age = 36\n",
    "txt = \"My name is John, and I am {}\"\n",
    "print(txt.format(age))"
   ]
  },
  {
   "cell_type": "code",
   "execution_count": null,
   "metadata": {
    "colab": {},
    "colab_type": "code",
    "id": "MvF_yqEDR6Ue"
   },
   "outputs": [],
   "source": [
    "#Example 2\n",
    "\n",
    "quantity = 3\n",
    "itemno = 567\n",
    "price = 49.95\n",
    "myorder = \"I want {} pieces of item {} for {} dollars.\"\n",
    "print(myorder.format(quantity, itemno, price))"
   ]
  },
  {
   "cell_type": "markdown",
   "metadata": {
    "colab_type": "text",
    "id": "G0I_rpUAsWk8"
   },
   "source": [
    "# **Strings are Arrays**\n",
    "\n",
    "Like many other popular programming languages, strings in Python are arrays of bytes representing unicode characters.\n",
    "\n",
    "\n",
    "However, Python does not have a character data type, a single character is simply a string with a length of 1.\n",
    "\n",
    "\n",
    "Square brackets can be used to access elements of the string."
   ]
  },
  {
   "cell_type": "code",
   "execution_count": null,
   "metadata": {
    "colab": {},
    "colab_type": "code",
    "id": "NRp9OSwUscrj"
   },
   "outputs": [],
   "source": [
    "a = \"Hello, World!\"\n",
    "print(a[1]) #Get the character at position 1 (remember that the first character has the position 0)\n",
    "\n",
    "print(a[1:]) #Everything past the first\n",
    "\n",
    "print(a[0:3]) #Everything but the last\n",
    "\n",
    "print(a[:3]) #Same as a[0:3]\n",
    "\n",
    "print(a[2:5]) #Get the characters from position 2 to position 5 (not included)\n",
    "\n",
    "print(a[-1]) ## The last item from the end in object/variable \"a\"\n",
    "\n",
    "print(a[:-1]) ## except last item from the end in object/variable \"a\"   or but simpler (0:-1)\n",
    "\n",
    "print(a[-2]) ## The second to last item from the end in object/variable \"a\"\n",
    "\n",
    "print(a[-5:-2]) #Get the characters from position 5 to position 1, starting the count from the end of the string\n",
    "\n",
    "b=a+'xyz'\n",
    "\n",
    "print(b)\n",
    "\n",
    "print(a)  # a unchanged\n",
    "\n",
    "b=a*2\n",
    "\n",
    "print(b) #Repetition\n",
    "\n"
   ]
  },
  {
   "cell_type": "markdown",
   "metadata": {
    "colab_type": "text",
    "id": "mlF1NYznQhBJ"
   },
   "source": [
    "# **Check String in String**"
   ]
  },
  {
   "cell_type": "code",
   "execution_count": null,
   "metadata": {
    "colab": {},
    "colab_type": "code",
    "id": "Gm9_ntvCQnIh"
   },
   "outputs": [],
   "source": [
    "txt = \"The rain in Spain stays mainly in the plain\"\n",
    "x = \"ain\" in txt\n",
    "print(x)\n",
    "\n",
    "txt = \"The rain in Spain stays mainly in the plain\"\n",
    "x = \"ain\" not in txt\n",
    "print(x)"
   ]
  },
  {
   "cell_type": "markdown",
   "metadata": {
    "colab_type": "text",
    "id": "0FaXTw9Vmrj4"
   },
   "source": [
    "# **String Methods**\n",
    "\n",
    "Python has a set of built-in methods that you can use on strings."
   ]
  },
  {
   "cell_type": "markdown",
   "metadata": {
    "colab_type": "text",
    "id": "99gDBpcmnvfL"
   },
   "source": [
    "The strip() method removes any whitespace from the **beginning** or the **end**:"
   ]
  },
  {
   "cell_type": "code",
   "execution_count": null,
   "metadata": {
    "colab": {},
    "colab_type": "code",
    "id": "Uuln44Plnks0"
   },
   "outputs": [],
   "source": [
    "a = \" Hello, World! \"\n",
    "print(a.strip()) # returns \"Hello, World!\""
   ]
  },
  {
   "cell_type": "code",
   "execution_count": null,
   "metadata": {
    "colab": {},
    "colab_type": "code",
    "id": "rl7gRaQtn4sb"
   },
   "outputs": [],
   "source": [
    "a = \"Hello, World!\"\n",
    "print(a.lower())\n",
    "print(a.upper())\n",
    "print(a.replace(\"H\", \"J\"))\n",
    "print(a.split(\",\")) # returns ['Hello', ' World!']"
   ]
  },
  {
   "cell_type": "markdown",
   "metadata": {
    "colab_type": "text",
    "id": "1bxQ7NGurCKJ"
   },
   "source": [
    "<thead> <tr> <th>Method</th> <th>Description</th> <tbody><tr>\n",
    "    <td>capitalize()</a></td><td>Converts the first character to upper case</td>\n",
    "    <tr>\n",
    "    <td>casefold()</a></td><td>Converts string into \n",
    "    lower case</td>\n",
    "  </tr>\n",
    "  <tr>\n",
    "    <td>center()</a></td><td>Returns a centered \n",
    "    string</td>\n",
    "  </tr>\n",
    "  <tr>\n",
    "    <td>count()</a></td><td>Returns the number of \n",
    "    times a specified value occurs in a string</td>\n",
    "  </tr>\n",
    "  <tr>\n",
    "    <td>encode()</a></td><td>Returns an encoded \n",
    "    version of the string</td>\n",
    "  </tr>\n",
    "  <tr>\n",
    "    <td>endswith()</a></td><td>Returns true if the \n",
    "    string ends with the specified value</td>\n",
    "  </tr>\n",
    "  <tr>\n",
    "    <td>expandtabs()</a></td><td>Sets the \n",
    "    tab size of the string</td>\n",
    "  </tr>\n",
    "  <tr>\n",
    "    <td>find()</a></td><td>Searches the string for a \n",
    "    specified value and returns the position of where it was found</td>\n",
    "  </tr>\n",
    "  <tr>\n",
    "    <td>format()</a></td><td>Formats specified \n",
    "    values in a string</td>\n",
    "  </tr>\n",
    "  <tr>\n",
    "    <td>format_map()</td><td>Formats specified \n",
    "    values in a string</td>\n",
    "  </tr>\n",
    "  <tr>\n",
    "    <td>index()</a></td><td>Searches the string \n",
    "    for a specified value and returns the position of where it was found</td>\n",
    "  </tr>\n",
    "  <tr>\n",
    "    <td>isalnum()</a></td><td>Returns True if all \n",
    "    characters in the string are alphanumeric</td>\n",
    "  </tr>\n",
    "  <tr>\n",
    "    <td>isalpha()</a></td><td>Returns True if all \n",
    "    characters in the string are in the alphabet</td>\n",
    "  </tr>\n",
    "  <tr>\n",
    "    <td>isdecimal()</a></td><td>Returns True if all \n",
    "    characters in the string are decimals</td>\n",
    "  </tr>\n",
    "  <tr>\n",
    "    <td>isdigit()</a></td><td>Returns True if all \n",
    "    characters in the string are digits</td>\n",
    "  </tr>\n",
    "  <tr>\n",
    "    <td><isidentifier()</a></td><td>Returns True if \n",
    "    the string is an identifier</td>\n",
    "  </tr>\n",
    "  <tr>\n",
    "    <td>islower()</a></td><td>Returns True if all \n",
    "    characters in the string are lower case</td>\n",
    "  </tr>\n",
    "  <tr>\n",
    "    <td>isnumeric()</a></td><td>Returns True if \n",
    "    all characters in the string are numeric</td>\n",
    "  </tr>\n",
    "  <tr>\n",
    "    <td>isprintable()</a></td><td>Returns True if \n",
    "    all characters in the string are printable</td>\n",
    "  </tr>\n",
    "  <tr>\n",
    "    <td>isspace()</a></td><td>Returns True if all \n",
    "    characters in the string are whitespaces</td>\n",
    "  </tr>\n",
    "  <tr>\n",
    "    <td>istitle()</a></td>\n",
    "    <td>Returns True if the string follows the rules of a \n",
    "    title</td>\n",
    "  </tr>\n",
    "  <tr>\n",
    "    <td>isupper()</a></td><td>Returns True if all \n",
    "    characters in the string are upper case</td>\n",
    "  </tr>\n",
    "  <tr>\n",
    "    <td>join()</a></td><td>Joins the elements of \n",
    "    an iterable to the end of the string</td>\n",
    "  </tr>\n",
    "  <tr>\n",
    "    <td>ljust()</a></td><td>Returns a left justified \n",
    "    version of the string</td>\n",
    "  </tr>\n",
    "  <tr>\n",
    "    <td>lower()</a></td><td>Converts a string into \n",
    "    lower case</td>\n",
    "  </tr>\n",
    "  <tr>\n",
    "    <td>lstrip()</a></td><td>Returns a left trim \n",
    "    version of the string</td>\n",
    "  </tr>\n",
    "  <tr>\n",
    "    <td>maketrans()</td><td>Returns a \n",
    "    translation table to be used in translations</td>\n",
    "  </tr>\n",
    "  <tr>\n",
    "    <td>partition()</a></td><td>Returns a tuple \n",
    "    where the string is parted into three parts</td>\n",
    "  </tr>\n",
    "  <tr>\n",
    "    <td>replace()</a></td><td>Returns a string \n",
    "    where a specified value is replaced with a specified value</td>\n",
    "  </tr>\n",
    "  <tr>\n",
    "    <td>rfind()</a></td><td>Searches the string for \n",
    "    a specified value and returns the last position of where it was found</td>\n",
    "  </tr>\n",
    "  <tr>\n",
    "    <td>rindex()</a></td><td>Searches the string for \n",
    "    a specified value and returns the last position of where it was found</td>\n",
    "  </tr>\n",
    "  <tr>\n",
    "    <td>rjust()</a></td><td>Returns a right justified \n",
    "    version of the string</td>\n",
    "  </tr>\n",
    "  <tr>\n",
    "    <td>rpartition()</a></td><td>Returns a tuple \n",
    "    where the string is parted into three parts</td>\n",
    "  </tr>\n",
    "  <tr>\n",
    "    <td>rsplit()</a></td><td>Splits the string at \n",
    "    the specified separator, and returns a list</td>\n",
    "  </tr>\n",
    "  <tr>\n",
    "    <td>rstrip()</a></td><td>Returns a right trim \n",
    "    version of the string</td>\n",
    "  </tr>\n",
    "  <tr>\n",
    "    <td>split()</a></td><td>Splits the string at \n",
    "    the specified separator, and returns a list</td>\n",
    "  </tr>\n",
    "  <tr>\n",
    "    <td>splitlines()</a></td><td>Splits the string \n",
    "    at line breaks and returns a list</td>\n",
    "  </tr>\n",
    "  <tr>\n",
    "    <td>startswith()</a></td><td>Returns true if \n",
    "    the string starts with the specified value</td>\n",
    "  </tr>\n",
    "  <tr>\n",
    "    <td>strip()</a></td><td>Returns a trimmed version of the string</td>\n",
    "  </tr>\n",
    "  <tr>\n",
    "    <td>swapcase()</a></td><td>Swaps cases, lower \n",
    "    case becomes upper case and vice versa</td>\n",
    "  </tr>\n",
    "  <tr>\n",
    "    <td>title()</a></td><td>Converts the first \n",
    "    character of each word to upper case</td>\n",
    "  </tr>\n",
    "  <tr>\n",
    "    <td>translate()</td><td>Returns a \n",
    "    translated string</td>\n",
    "  </tr>\n",
    "  <tr>\n",
    "    <td>upper()</a></td><td>Converts a string \n",
    "    into upper case</td>\n",
    "  </tr>\n",
    "<tr><td>zfill()</a></td><td>Fills the string with \n",
    "  a specified number of 0 values at the beginning</td></tr>\n",
    "</table>\n",
    "  </tr> </tr> </tbody> </table>\")"
   ]
  },
  {
   "cell_type": "markdown",
   "metadata": {
    "colab_type": "text",
    "id": "nzFnGfU2uOR6"
   },
   "source": [
    "**Python Operators**\n",
    "\n",
    "Operators are used to perform operations on variables and values.\n",
    "\n",
    "Python divides the operators in the following groups:\n",
    "\n",
    "Arithmetic operators\n",
    "\n",
    "Assignment operators\n",
    "\n",
    "Comparison operators\n",
    "\n",
    "Logical operators\n",
    "\n",
    "Identity operators\n",
    "\n",
    "Membership operators\n",
    "\n",
    "Bitwise operators\n",
    "\n",
    "<hr>\n",
    "<h2>Python Arithmetic Operators</h2>\n",
    "<p>Arithmetic operators are used with numeric values to perform common mathematical operations:</p>\n",
    "\n",
    "<table class=\"w3-table-all notranslate\">\n",
    "<tr>\n",
    "<th style=\"width:25%\">Operator</th>\n",
    "<th style=\"width:35%\">Name</th>\n",
    "<th style=\"width:30%\">Example</th>\n",
    "</tr>\n",
    "<tr>\n",
    "<td>+</td>\n",
    "<td>Addition</td>\n",
    "<td>x + y</td>\n",
    "</tr>\n",
    "<tr>\n",
    "<td>-</td>\n",
    "<td>Subtraction</td>\n",
    "<td>x - y</td>\n",
    "</tr>\n",
    "<tr>\n",
    "<td>*</td>\n",
    "<td>Multiplication</td>\n",
    "<td>x * y</td>\n",
    "</tr>\n",
    "<tr>\n",
    "<td>/</td>\n",
    "<td>Division</td>\n",
    "<td>x / y</td>\n",
    "</tr>\n",
    "<tr>\n",
    "<td>%</td>\n",
    "<td>Modulus</td>\n",
    "<td>x % y</td>\n",
    "</tr>\n",
    "  <tr>\n",
    "<td>**</td>\n",
    "<td>Exponentiation</td>\n",
    "<td>x ** y</td>\n",
    "  </tr>\n",
    "<tr>\n",
    "<td>//</td>\n",
    "<td>Floor division</td>\n",
    "<td>x // y</td>\n",
    "</tr>\n",
    "</table>\n",
    "\n",
    "<hr>\n",
    "<table>\n",
    "<hr>\n",
    "<h2>Python Assignment Operators</h2>\n",
    "\n",
    "<p>Assignment operators are used to assign values to variables:</p>\n",
    "\n",
    "<table class=\"w3-table-all notranslate\">\n",
    "<tr>\n",
    "<th style=\"width:25%\">Operator</th>\n",
    "<th style=\"width:20%\">Example</th>\n",
    "<th style=\"width:20%\">Same As</th>\n",
    "</tr>\n",
    "<tr>\n",
    "<td>=</td>\n",
    "<td>x = 5</td>\n",
    "<td>x = 5</td>\n",
    "\n",
    "</tr>\n",
    "  <tr>\n",
    "<td>+=</td>\n",
    "<td>x += 3</td>\n",
    "<td>x = x + 3</td>\n",
    "  </tr>\n",
    "  <tr>\n",
    "<td>-=</td>\n",
    "<td>x -= 3</td>\n",
    "<td>x = x - 3</td>\n",
    "  </tr>\n",
    "  <tr>\n",
    "<td>*=</td>\n",
    "<td>x *= 3</td>\n",
    "<td>x = x * 3</td>\n",
    "  </tr>\n",
    "  <tr>\n",
    "<td>/=</td>\n",
    "<td>x /= 3</td>\n",
    "<td>x = x / 3</td>\n",
    "  </tr>\n",
    "  <tr>\n",
    "<td>%=</td>\n",
    "<td>x %= 3</td>\n",
    "<td>x = x % 3</td>\n",
    "  </tr>\n",
    "  <tr>\n",
    "<td>//=</td>\n",
    "<td>x //= 3</td>\n",
    "<td>x = x // 3</td>\n",
    "  </tr>\n",
    "  <tr>\n",
    "<td>**=</td>\n",
    "<td>x **= 3</td>\n",
    "<td>x = x ** 3</td>\n",
    "  </tr>\n",
    "  <tr>\n",
    "<td>&amp;=</td>\n",
    "<td>x &amp;= 3</td>\n",
    "<td>x = x &amp; 3</td>\n",
    "  </tr>\n",
    "  <tr>\n",
    "<td>|=</td>\n",
    "<td>x |= 3</td>\n",
    "<td>x = x | 3</td>\n",
    "  </tr>\n",
    "<tr>\n",
    "<td>^=</td>\n",
    "<td>x ^= 3</td>\n",
    "<td>x = x ^ 3</td>\n",
    "</tr>\n",
    "<tr>\n",
    "<td>&gt;&gt;=</td>\n",
    "<td>x &gt;&gt;= 3</td>\n",
    "<td>x = x &gt;&gt; 3</td>\n",
    "</tr>\n",
    "<tr>\n",
    "<td>&lt;&lt;=</td>\n",
    "<td>x &lt;&lt;= 3</td>\n",
    "<td>x = x &lt;&lt; 3</td>\n",
    "</tr>\n",
    "</table>\n",
    "\n",
    "\n",
    "<hr>\n",
    "\n",
    "<h2>Python Comparison Operators</h2>\n",
    "\n",
    "<p>Comparison operators are used to compare two values:</p>\n",
    "\n",
    "<table class=\"w3-table-all notranslate\">\n",
    "<tr>\n",
    "<th style=\"width:25%\">Operator</th>\n",
    "<th style=\"width:35%\">Name</th>\n",
    "<th style=\"width:30%\">Example</th>\n",
    "\n",
    "</tr>\n",
    "<tr>\n",
    "<td>==</td>\n",
    "<td>Equal</td>\n",
    "<td>x == y</td>\n",
    "</tr>\n",
    "<tr>\n",
    "<td>!=</td>\n",
    "<td>Not equal</td>\n",
    "<td>x != y</td>\n",
    "<tr>\n",
    "<td>&gt;</td>\n",
    "<td>Greater than</td>\n",
    "<td>x &gt; y</td>\n",
    "<tr>\n",
    "<td>&lt;</td>\n",
    "<td>Less than</td>\n",
    "<td>x &lt; y</td>\n",
    "</tr>\n",
    "  <tr>\n",
    "<td>&gt;=</td>\n",
    "<td>Greater than or equal to</td>\n",
    "<td>x &gt;= y</td>\n",
    "  </tr>\n",
    "<tr>\n",
    "<td>&lt;=</td>\n",
    "<td>Less than or equal to</td>\n",
    "<td>x &lt;= y</td>\n",
    "</tr>\n",
    "</table>\n",
    "\n",
    "<hr>\n",
    "\n",
    "<hr>\n",
    "\n",
    "<h2>Python Logical Operators</h2>\n",
    "\n",
    "<p>Logical operators are used to combine conditional statements:</p>\n",
    "\n",
    "<table class=\"w3-table-all notranslate\">\n",
    "<tr>\n",
    "<th style=\"width:25%\">Operator</th>\n",
    "<th style=\"width:35%\">Description</th>\n",
    "<th style=\"width:30%\">Example</th>\n",
    "</tr>\n",
    "<tr>\n",
    "<td>and&nbsp;</td>\n",
    "<td>Returns True if both statements are true</td>\n",
    "<td>x &lt; 5 and&nbsp; x &lt; 10</td>\n",
    "\n",
    "</tr>\n",
    "<tr>\n",
    "<td>or</td>\n",
    "<td>Returns True if one of the statements is true</td>\n",
    "<td>x &lt; 5 or x &lt; 4</td>\n",
    "\n",
    "</tr>\n",
    "<tr>\n",
    "<td>not</td>\n",
    "<td>Reverse the result, returns False if the result is true</td>\n",
    "<td>not(x &lt; 5 and x &lt; 10)</td>\n",
    "\n",
    "</tr>\n",
    "</table>\n",
    "\n",
    "<hr>\n",
    "\n",
    "<h2>Python Identity Operators</h2>\n",
    "\n",
    "<p>Identity operators are used to compare the objects, not if they are equal, but if they are actually the same object, with the same memory location:</p>\n",
    "\n",
    "<table class=\"w3-table-all notranslate\">\n",
    "<tr>\n",
    "<th style=\"width:25%\">Operator</th>\n",
    "<th style=\"width:35%\">Description</th>\n",
    "<th style=\"width:30%\">Example</th>\n",
    "</tr>\n",
    "<tr>\n",
    "<td>is&nbsp;</td>\n",
    "<td>Returns true if both variables are the same object</td>\n",
    "<td>x is y</td>\n",
    "\n",
    "</tr>\n",
    "<tr>\n",
    "<td>is not</td>\n",
    "<td>Returns true if both variables are not the same object</td>\n",
    "<td>x is not y</td>\n",
    "\n",
    "</tr>\n",
    "</table>\n",
    "\n",
    "<hr>\n",
    "\n",
    "<h2>Python Membership Operators</h2>\n",
    "\n",
    "<p>Membership operators are used to test if a sequence is presented in an object:</p>\n",
    "\n",
    "<table class=\"w3-table-all notranslate\">\n",
    "<tr>\n",
    "<th style=\"width:25%\">Operator</th>\n",
    "<th style=\"width:35%\">Description</th>\n",
    "<th style=\"width:30%\">Example</th>\n",
    "\n",
    "</tr>\n",
    "<tr>\n",
    "<td>in&nbsp;</td>\n",
    "<td>Returns True if a sequence with the specified value is present in the object</td>\n",
    "<td>x in y</td>\n",
    "\n",
    "</tr>\n",
    "<tr>\n",
    "<td>not in</td>\n",
    "<td>Returns True if a sequence with the specified value is not present in the \n",
    "object</td>\n",
    "<td>x not in y</td>\n",
    "\n",
    "</tr>\n",
    "</table>\n",
    "\n",
    "<hr>\n",
    "\n",
    "<h2>Python Bitwise Operators</h2>\n",
    "\n",
    "<p>Bitwise operators are used to compare (binary) numbers:</p>\n",
    "\n",
    "<table class=\"w3-table-all notranslate\">\n",
    "<tr>\n",
    "<th style=\"width:25%\">Operator</th>\n",
    "<th style=\"width:30%\">Name</th>\n",
    "<th style=\"width:35%\">Description</th>\n",
    "</tr>\n",
    "</tr>\n",
    "  <tr>\n",
    "<td>&amp;&nbsp;</td>\n",
    "<td>AND</td>\n",
    "<td>Sets each bit to 1 if both bits are 1</td>\n",
    "  </tr>\n",
    "  <tr>\n",
    "<td>|</td>\n",
    "<td>OR</td>\n",
    "<td>Sets each bit to 1 if one of two bits is 1</td>\n",
    "  </tr>\n",
    "  <tr>\n",
    "<td>&nbsp;^</td>\n",
    "<td>XOR</td>\n",
    "<td>Sets each bit to 1 if only one of two bits is 1</td>\n",
    "  </tr>\n",
    "<tr>\n",
    "<td>~&nbsp;</td>\n",
    "<td>NOT</td>\n",
    "<td>Inverts all the bits</td>\n",
    "</tr>\n",
    "<tr>\n",
    "<td>&lt;&lt;</td>\n",
    "<td>Zero fill left shift</td>\n",
    "<td>Shift left by pushing zeros in from the right and let the leftmost bits fall \n",
    "off</td>\n",
    "</tr>\n",
    "<tr>\n",
    "<td>&gt;&gt;</td>\n",
    "<td>Signed right shift</td>\n",
    "<td>Shift right by pushing copies of the leftmost bit in from the left, and let \n",
    "the rightmost bits fall off</td>\n",
    "</tr>\n",
    "</table>\n",
    "<hr>"
   ]
  },
  {
   "cell_type": "markdown",
   "metadata": {
    "colab_type": "text",
    "id": "OAjP3KSuzGn_"
   },
   "source": [
    "# **Python Collections (Arrays)**\n",
    "\n",
    "\n",
    "There are four collection data types in the Python programming language:\n",
    "\n",
    "> **List** is a collection which is ordered and changeable. Allows duplicate members.\n",
    "\n",
    "> **Tuple** is a collection which is ordered and unchangeable. Allows duplicate members.\n",
    "\n",
    "> **Set** is a collection which is unordered and unindexed. No duplicate members.\n",
    "\n",
    "> **Dictionary** is a collection which is unordered, changeable and indexed. No duplicate members.\n",
    "\n",
    "When choosing a collection type, it is useful to understand the properties of that type. Choosing the right type for a particular data set could mean retention of meaning, and, it could mean an increase in efficiency or security."
   ]
  },
  {
   "cell_type": "markdown",
   "metadata": {
    "colab_type": "text",
    "id": "2wLyJ57T01Lc"
   },
   "source": [
    "# **List**\n",
    "\n",
    "A list is a collection which is **ordered** and **changeable**. In Python **lists are written with square brackets**.\n",
    "\n",
    "**Example**\n",
    "\n",
    "Create a List:"
   ]
  },
  {
   "cell_type": "code",
   "execution_count": null,
   "metadata": {
    "colab": {
     "base_uri": "https://localhost:8080/",
     "height": 88
    },
    "colab_type": "code",
    "id": "7Q4fl5j61D-w",
    "outputId": "4b13224f-1fea-4f5a-ca06-1fb93ac68eb3"
   },
   "outputs": [],
   "source": [
    "thislist = [\"apple\", \"banana\", \"cherry\", \"orange\", \"kiwi\", \"melon\", \"mango\"]\n",
    "print(thislist)\n",
    "print(thislist[1]) #Print the second item of the list\n",
    "print(thislist[-1]) #Print the last item of the list\n",
    "\n"
   ]
  },
  {
   "cell_type": "markdown",
   "metadata": {
    "colab_type": "text",
    "id": "4Jx0uXjG2ufN"
   },
   "source": [
    "**Range of Indexes**\n",
    "\n",
    "You can specify a range of indexes by specifying where to start and where to end the range.\n",
    "\n",
    "When specifying a range, the return value will be a new list with the specified items."
   ]
  },
  {
   "cell_type": "code",
   "execution_count": null,
   "metadata": {
    "colab": {},
    "colab_type": "code",
    "id": "X2eY7kK2205n"
   },
   "outputs": [],
   "source": [
    "print(thislist[2:5])  #Return the third, fourth, and fifth items of thislist\n",
    "\n",
    "thislist = [\"apple\", \"banana\", \"cherry\", \"orange\", \"kiwi\", \"melon\", \"mango\"]\n",
    "print(thislist[:4]) #returns the items from the beginning to \"orange\"\n",
    "print(thislist[2:]) #returns the items from \"cherry\" and to the end\n",
    "print(thislist[-4:-1]) #returns the items from index -4 (included) to index -1 (excluded)\n",
    "\n",
    "thislist[1] = \"jackfruit\"   #Change the second item of thislist from \"banana\" to \"jackfruit\"\n",
    "print(thislist)"
   ]
  },
  {
   "cell_type": "markdown",
   "metadata": {
    "colab_type": "text",
    "id": "mkYTSnP54jkc"
   },
   "source": [
    "**Methods of List**"
   ]
  },
  {
   "cell_type": "code",
   "execution_count": null,
   "metadata": {
    "colab": {
     "base_uri": "https://localhost:8080/",
     "height": 35
    },
    "colab_type": "code",
    "id": "EIj3764q78dB",
    "outputId": "31c2289e-b822-4dbe-acef-bd92f54c85f1"
   },
   "outputs": [],
   "source": [
    "thislist = [\"apple\", \"banana\", \"cherry\"]\n",
    "print(len(thislist)) # number of items in the list"
   ]
  },
  {
   "cell_type": "code",
   "execution_count": null,
   "metadata": {
    "colab": {},
    "colab_type": "code",
    "id": "ILghE5Yc8C39"
   },
   "outputs": [],
   "source": [
    "thislist = [\"apple\", \"banana\", \"cherry\"]\n",
    "thislist.append(\"orange\")\n",
    "print(thislist) #add an item to the end of the list\n",
    "\n",
    "thislist.insert(1, \"orange\")\n",
    "print(thislist)  #nsert an item as the second position\n",
    "\n",
    "thislist.remove(\"banana\")\n",
    "print(thislist)  #emoves the specified item\n",
    "\n",
    "thislist.pop()\n",
    "print(thislist) #removes the specified index, (or the last item if index is not specified)\n",
    "\n",
    "del thislist[0]\n",
    "print(thislist) #   removes the specified index\n",
    "\n",
    "del thislist  #deletes entire list\n",
    "\n",
    "thislist = [\"apple\", \"banana\", \"cherry\"]\n",
    "thislist.clear()  #method empties the list\n",
    "print(thislist)\n",
    "\n",
    "thislist = [\"apple\", \"banana\", \"cherry\"]\n",
    "mylist = thislist.copy()   #copies thislist into mylist\n",
    "print(mylist)  \n",
    "\n"
   ]
  },
  {
   "cell_type": "code",
   "execution_count": null,
   "metadata": {
    "colab": {},
    "colab_type": "code",
    "id": "1rlAWHY-_KM7"
   },
   "outputs": [],
   "source": [
    "#Make a copy of a list with the list() method:\n",
    "\n",
    "thislist = [\"apple\", \"banana\", \"cherry\"]\n",
    "mylist1 = list(thislist)\n",
    "print(mylist1)"
   ]
  },
  {
   "cell_type": "code",
   "execution_count": null,
   "metadata": {
    "colab": {},
    "colab_type": "code",
    "id": "n3P7grO7_SYU"
   },
   "outputs": [],
   "source": [
    "#Join two list:\n",
    "\n",
    "list1 = [\"a\", \"b\" , \"c\"]\n",
    "list2 = [1, 2, 3]\n",
    "\n",
    "list3 = list1 + list2\n",
    "print(list3)"
   ]
  },
  {
   "cell_type": "code",
   "execution_count": null,
   "metadata": {
    "colab": {},
    "colab_type": "code",
    "id": "cdIEOs1b_gv5"
   },
   "outputs": [],
   "source": [
    "#the extend() method, which purpose is to add elements from one list to another list\n",
    "\n",
    "list1.extend(list2)\n",
    "print(list1)"
   ]
  },
  {
   "cell_type": "code",
   "execution_count": null,
   "metadata": {
    "colab": {},
    "colab_type": "code",
    "id": "GZ13hQVl__Ge"
   },
   "outputs": [],
   "source": [
    "#list() constructor to make a List:\n",
    "\n",
    "thislist = list((\"apple\", \"banana\", \"cherry\")) # note the double round-brackets\n",
    "print(thislist)"
   ]
  },
  {
   "cell_type": "markdown",
   "metadata": {
    "colab_type": "text",
    "id": "x5671aNXalk6"
   },
   "source": [
    "# **Tuple**\n",
    "\n",
    "A **tuple** is a collection which is **ordered** and **unchangeable**. In Python **tuples are written with round brackets**."
   ]
  },
  {
   "cell_type": "code",
   "execution_count": null,
   "metadata": {
    "colab": {},
    "colab_type": "code",
    "id": "8nWbqiJxa0xN"
   },
   "outputs": [],
   "source": [
    "#Create a Tuple\n",
    "thistuple = (\"apple\", \"banana\", \"cherry\")\n",
    "print(thistuple)"
   ]
  },
  {
   "cell_type": "markdown",
   "metadata": {
    "colab_type": "text",
    "id": "Blk9ElmRea8_"
   },
   "source": [
    "Access Tuple Items\n",
    "\n",
    "You can access tuple items by referring to the index number, inside square brackets:\n",
    "\n",
    "Examples\n",
    "\n",
    "Print the second item in the tuple:"
   ]
  },
  {
   "cell_type": "code",
   "execution_count": null,
   "metadata": {
    "colab": {},
    "colab_type": "code",
    "id": "cxJ93mp-iApT"
   },
   "outputs": [],
   "source": [
    "print(thistuple[1]) #Print the second item in the tuple\n",
    "print(thistuple[-1]) #Print the last item of the tuple\n",
    "thistuple = (\"apple\", \"banana\", \"cherry\", \"orange\", \"kiwi\", \"melon\", \"mango\")\n",
    "print(thistuple[2:5])  #Return the third, fourth, and fifth item\n",
    "print(thistuple[-4:-1]) #returns the items from index -4 (included) to index -1 (excluded)"
   ]
  },
  {
   "cell_type": "markdown",
   "metadata": {
    "colab_type": "text",
    "id": "HxBp47rZkwQA"
   },
   "source": [
    "**Change Tuple Values**\n",
    "\n",
    "Once a tuple is created, you cannot change its values. Tuples are **unchangeable**, or **immutable** as it also is called.\n",
    "\n",
    "But there is a workaround. You can convert the tuple into a list, change the list, and convert the list back into a tuple."
   ]
  },
  {
   "cell_type": "code",
   "execution_count": null,
   "metadata": {
    "colab": {},
    "colab_type": "code",
    "id": "1Fo6M6N0lEs4"
   },
   "outputs": [],
   "source": [
    "#Convert the tuple into a list to be able to change it\n",
    "\n",
    "x = (\"apple\", \"banana\", \"cherry\")\n",
    "y = list(x) #Converts tuple into list\n",
    "y[1] = \"kiwi\"\n",
    "x = tuple(y) #Converts list into tuple\n",
    "\n",
    "print(x)"
   ]
  },
  {
   "cell_type": "markdown",
   "metadata": {
    "colab_type": "text",
    "id": "oZiElKd18El3"
   },
   "source": [
    "# **Methods in tuple**"
   ]
  },
  {
   "cell_type": "code",
   "execution_count": null,
   "metadata": {
    "colab": {},
    "colab_type": "code",
    "id": "CZplhOKG8Ji3"
   },
   "outputs": [],
   "source": [
    "print(len(thistuple)) #the number of items in the tuple\n",
    "\n",
    "#You cannot add items to a tuple:\n",
    "\n",
    "thistuple = (\"apple\", \"banana\", \"cherry\")\n",
    "thistuple[3] = \"orange\" # This will raise an error\n",
    "print(thistuple)\n",
    "\n",
    "\n",
    "# We can delete the tuple completely\n",
    "\n",
    "thistuple = (\"apple\", \"banana\", \"cherry\")\n",
    "del thistuple\n",
    "print(thistuple) #this will raise an error because the tuple no longer exists\n",
    "\n",
    "\n",
    "#Join two tuples:\n",
    "\n",
    "tuple1 = (\"a\", \"b\" , \"c\")\n",
    "tuple2 = (1, 2, 3)\n",
    "\n",
    "tuple3 = tuple1 + tuple2\n",
    "print(tuple3)\n",
    "\n",
    "\n",
    "It is also possible to use the tuple() constructor to make a tuple.\n",
    "\n",
    "thistuple1 = tuple((\"apple\", \"banana\", \"cherry\")) # note the double round-brackets\n",
    "print(thistuple1)"
   ]
  },
  {
   "cell_type": "markdown",
   "metadata": {},
   "source": [
    "# **Set**\n",
    "A set is a collection which is unordered and unindexed. In Python sets are written with **curly brackets**."
   ]
  },
  {
   "cell_type": "code",
   "execution_count": null,
   "metadata": {},
   "outputs": [],
   "source": [
    "thisset = {\"apple\", \"banana\", \"cherry\"}\n",
    "print(thisset)\n",
    "\n",
    "\n",
    "print(\"banana\" in thisset)\n",
    "\n",
    "thisset.add(\"orange\")#Adding an item to set\n",
    "print(thisset)\n",
    "\n",
    "#Add multiple items to a set, using the update() method:\n",
    "thisset.update([\"orange\", \"mango\", \"grapes\"])\n",
    "\n",
    "print(thisset)\n",
    "\n",
    "\n",
    "print(len(thisset))  #Length or the number of items in a set\n",
    "\n",
    "\n",
    "#Removing an item\n",
    "\n",
    "\n",
    "thisset.remove(\"banana\") \n",
    "#Note: If the item to remove does not exist, remove() will raise an error.\n",
    "\n",
    "print(thisset)\n",
    "\n",
    "thisset.discard(\"banana\")\n",
    "#If the item to remove does not exist, discard() will NOT raise an error.\n",
    "\n",
    "print(thisset)\n",
    "\n",
    "x = thisset.pop() #Remove the last item by using the pop() method\n",
    "\n",
    "print(x)\n",
    "\n",
    "print(thisset)\n",
    "\n",
    "thisset.clear() #The clear() method empties the set\n",
    "\n",
    "print(thisset)\n",
    "\n",
    "\n",
    "#The del keyword will delete the set completely:\n",
    "\n",
    "thisset = {\"apple\", \"banana\", \"cherry\"}\n",
    "\n",
    "del thisset\n",
    "\n",
    "print(thisset)\n",
    "\n",
    "\n",
    "#Join Two Sets\n",
    "#You can use the union() method that returns a new set containing all items from both sets, \n",
    "#or the update() method that inserts all the items from one set into another:\n",
    "\n",
    "\n",
    "#The union() method returns a new set with all items from both sets:\n",
    "\n",
    "set1 = {\"a\", \"b\" , \"c\"}\n",
    "set2 = {1, 2, 3}\n",
    "\n",
    "set3 = set1.union(set2)\n",
    "print(set3)\n",
    "\n",
    "\n",
    "\n",
    "#The update() method inserts the items in set2 into set1:\n",
    "\n",
    "set1 = {\"a\", \"b\" , \"c\"}\n",
    "set2 = {1, 2, 3}\n",
    "\n",
    "set1.update(set2)\n",
    "print(set1)\n",
    "\n",
    "#Using the set() constructor to make a set:\n",
    "\n",
    "thisset = set((\"apple\", \"banana\", \"cherry\")) # note the double round-brackets\n",
    "print(thisset)"
   ]
  },
  {
   "cell_type": "markdown",
   "metadata": {},
   "source": [
    "</div>\n",
    "<hr>\n",
    "<h2>Set Methods</h2>\n",
    "\n",
    "<p>Python has a set of built-in methods that you can use on sets.</p>\n",
    "\n",
    "<table class=\"w3-table-all notranslate\">\n",
    "<tr>\n",
    "<th>Method</th>\n",
    "<th>Description</th>\n",
    "</tr>\n",
    "<tr><td>add()</a></td><td>Adds an element to the \n",
    "  set</td></tr>\n",
    "<tr><td>clear()</a></td><td>Removes all the \n",
    "  elements from the set</td></tr>\n",
    "<tr><td>copy()</a></td><td>Returns a copy of the set</td></tr>\n",
    "  <tr>\n",
    "    <td>difference()</a></td><td>Returns a set \n",
    "    containing the difference between two or more sets</td>\n",
    "  </tr>\n",
    "  <tr>\n",
    "    <td>difference_update()</a></td><td>Removes the \n",
    "    items in this set that are also included in another, specified set</td>\n",
    "  </tr>\n",
    "<tr><td>discard()</a></td><td>Remove the specified \n",
    "  item</td></tr>\n",
    "  <tr>\n",
    "    <td>intersection()</a></td><td>Returns a set, \n",
    "    that is the intersection of two other sets</td>\n",
    "  </tr>\n",
    "<tr><td>intersection_update()</a></td><td>\n",
    "  Removes the items in this set that are not present in other, specified set(s)</td></tr>\n",
    "  <tr>\n",
    "    <td>isdisjoint()</a></td><td>Returns whether \n",
    "    two sets have a intersection or not</td>\n",
    "  </tr>\n",
    "  <tr>\n",
    "    <td>issubset()</a></td><td>Returns whether \n",
    "    another set contains this set or not</td>\n",
    "  </tr>\n",
    "<tr><td>issuperset()</a></td><td>Returns whether \n",
    "  this set contains another set or not</td></tr>\n",
    "<tr><td>pop()</a></td><td>Removes an element from the \n",
    "  set</td></tr>\n",
    "<tr><td>remove()</a></td><td>Removes the specified element</td></tr>\n",
    "  <tr>\n",
    "    <td>symmetric_difference()</a></td><td>Returns \n",
    "    a set with the symmetric differences of two sets</td>\n",
    "  </tr>\n",
    "<tr><td>symmetric_difference_update()</a></td><td>\n",
    "  inserts the symmetric differences from this set and another</td></tr>\n",
    "  <tr>\n",
    "    <td>union()</a></td><td>Return a set containing \n",
    "    the union of sets</td>\n",
    "  </tr>\n",
    "<tr><td>update()</a></td><td>Update the set with the \n",
    "  union of this set and others</td></tr>\n",
    "</table>\n",
    "\n",
    "<hr>"
   ]
  },
  {
   "cell_type": "markdown",
   "metadata": {},
   "source": [
    "# **Python Dictionaries**\n",
    "\n",
    "A dictionary is a collection which is unordered, changeable and indexed. In Python dictionaries are written with curly brackets, and they have keys and values."
   ]
  },
  {
   "cell_type": "code",
   "execution_count": 6,
   "metadata": {},
   "outputs": [
    {
     "name": "stdout",
     "output_type": "stream",
     "text": [
      "{'brand': 'Ford', 'model': 'Mustang', 'year': 1964}\n",
      "True\n"
     ]
    }
   ],
   "source": [
    "#Create and print a dictionary:\n",
    "\n",
    "thisdict = {\n",
    "  \"brand\": \"Ford\",\n",
    "  \"model\": \"Mustang\",\n",
    "  \"year\": 1964\n",
    "}\n",
    "print(thisdict)\n",
    "\n"
   ]
  },
  {
   "cell_type": "code",
   "execution_count": null,
   "metadata": {},
   "outputs": [],
   "source": [
    "#Get the value of the \"model\" key:\n",
    "\n",
    "x = thisdict[\"model\"]\n",
    "print(x)\n",
    "\n",
    "# method get() will also give you the same result\n",
    "x = thisdict.get(\"model\")\n",
    "print(x)\n",
    "\n",
    "thisdict[\"year\"] = 2018 #Change the \"year\" to 2018\n",
    "print(thisdict)\n"
   ]
  },
  {
   "cell_type": "code",
   "execution_count": null,
   "metadata": {},
   "outputs": [],
   "source": [
    "#You can loop through a dictionary by using a for loop\n",
    "\n",
    "for x in thisdict:\n",
    "  print(x)\n",
    "\n",
    "for x in thisdict:\n",
    "  print(thisdict[x])\n",
    "\n",
    "#use the values() function to return values of a dictionary\n",
    "for x in thisdict.values():\n",
    "  print(x)\n",
    "\n",
    "#Display of both keys and values, by using the items() function\n",
    "\n",
    "for x, y in thisdict.items():\n",
    "  print(x, y)\n",
    "\n",
    "\n",
    "#Check if \"model\" is present in the dictionary\n",
    "x=\"model\" in thisdict\n",
    "print(x)"
   ]
  },
  {
   "cell_type": "code",
   "execution_count": null,
   "metadata": {},
   "outputs": [],
   "source": [
    "#Print the number of items in the dictionary or length\n",
    "\n",
    "print(len(thisdict))\n",
    "\n",
    "#Adding an item to the dictionary is done \n",
    "#by using a new index key and assigning a value to it:\n",
    "thisdict[\"color\"] = \"red\"\n",
    "print(thisdict)"
   ]
  },
  {
   "cell_type": "code",
   "execution_count": null,
   "metadata": {},
   "outputs": [],
   "source": [
    "#Removing Items\n",
    "\n",
    "#The pop() method removes the item with the specified key name\n",
    "thisdict.pop(\"model\")\n",
    "print(thisdict)\n",
    "\n",
    "#The popitem() method removes the last inserted item\n",
    "thisdict.popitem()\n",
    "print(thisdict)\n",
    "\n",
    "#The del keyword removes the item with the specified key name\n",
    "del thisdict[\"model\"]\n",
    "print(thisdict)\n",
    "\n",
    "#The del keyword can also delete the dictionary completely\n",
    "del thisdict\n",
    "print(thisdict) #this will cause an error because \"thisdict\" no longer exists.\n",
    "\n",
    "#The clear() keyword empties the dictionary\n",
    "thisdict = {\n",
    "  \"brand\": \"Ford\",\n",
    "  \"model\": \"Mustang\",\n",
    "  \"year\": 1964\n",
    "}\n",
    "thisdict.clear()\n",
    "print(thisdict)"
   ]
  },
  {
   "cell_type": "markdown",
   "metadata": {},
   "source": [
    "# **Copy a Dictionary**\n",
    "\n",
    "You cannot copy a dictionary simply by typing **dict2 = dict1**, because: **dict2** will only be a reference to **dict1**, and changes made in **dict1** will automatically also be made in **dict2**.\n",
    "\n",
    "There are ways to make a copy, one way is to use the built-in Dictionary method **copy()** and **dist()**."
   ]
  },
  {
   "cell_type": "code",
   "execution_count": null,
   "metadata": {},
   "outputs": [],
   "source": [
    "#Duplicate with copy()\n",
    "mydict = thisdict.copy()\n",
    "print(mydict)\n",
    "\n",
    "#Duplicate with dist()\n",
    "mydict1 = dict(thisdict)\n",
    "print(mydict1)"
   ]
  },
  {
   "cell_type": "markdown",
   "metadata": {},
   "source": [
    "</div>\n",
    "<hr>\n",
    "<h2>Dictionary Methods</h2>\n",
    "\n",
    "<p>Python has a set of built-in methods that you can use on dictionaries.</p>\n",
    "\n",
    "<table class=\"w3-table-all notranslate\">\n",
    "<tr>\n",
    "<th>Method</th>\n",
    "<th>Description</th>\n",
    "</tr>\n",
    "<tr><td>clear()</a></td><td>Removes all the elements from the dictionary</td></tr>\n",
    "<tr><td>copy()</a></td><td>Returns a copy of the dictionary</td></tr>\n",
    "<tr><td>fromkeys()</a></td><td>Returns a dictionary with the specified keys and values</td></tr>\n",
    "<tr><td>get()</a></td><td>Returns the value of the specified key</td></tr>\n",
    "<tr><td>items()</a></td><td>Returns a list containing a tuple for each key value pair</td></tr>\n",
    "<tr><td>keys()</a></td><td>Returns a list containing the dictionary's keys</td></tr>\n",
    "<tr><td>pop()</a></td><td>Removes the element with the specified key</td></tr>\n",
    "<tr><td>popitem()</a></td><td>Removes the last \n",
    "  inserted key-value pair</td></tr>\n",
    "<tr><td>setdefault()</a></td><td>Returns the value of the specified key. If the key does not exist: insert the key, with the specified value</td></tr>\n",
    "<tr><td>update()</a></td><td>Updates the dictionary with the specified key-value pairs</td></tr>\n",
    "<tr><td>values()</a></td><td>Returns a list of all the values in the dictionary</td></tr>\n",
    "</table>\n",
    "<hr>"
   ]
  },
  {
   "cell_type": "code",
   "execution_count": null,
   "metadata": {},
   "outputs": [],
   "source": []
  },
  {
   "cell_type": "code",
   "execution_count": null,
   "metadata": {},
   "outputs": [],
   "source": []
  }
 ],
 "metadata": {
  "colab": {
   "collapsed_sections": [],
   "name": "KLR-PythonBasics.ipynb",
   "provenance": []
  },
  "kernelspec": {
   "display_name": "Python 3",
   "language": "python",
   "name": "python3"
  },
  "language_info": {
   "codemirror_mode": {
    "name": "ipython",
    "version": 3
   },
   "file_extension": ".py",
   "mimetype": "text/x-python",
   "name": "python",
   "nbconvert_exporter": "python",
   "pygments_lexer": "ipython3",
   "version": "3.5.2"
  }
 },
 "nbformat": 4,
 "nbformat_minor": 1
}
