{
 "cells": [
  {
   "cell_type": "markdown",
   "metadata": {
    "colab_type": "text",
    "id": "aE2EQL06gs7x"
   },
   "source": [
    "# **Indentation**\n",
    "\n",
    "Python relies on indentation (whitespace at the beginning of a line) to define scope in the code. Other programming languages often use curly-brackets for this purpose.\n",
    "\n",
    "It is similar to that of other languages. The **if statement** contains a logical expression using which data is compared and a decision is made based on the result of the comparison.\n",
    "\n",
    "<h2>Syntax</h2>\n",
    "<pre class=\"result notranslate\">\n",
    "if expression:\n",
    "   statement(s)\n",
    "</pre>\n",
    "\n",
    "<pre class=\"prettyprint notranslate\">\n",
    "#!/usr/bin/python\n",
    "\n",
    "var1 = 100\n",
    "if var1:\n",
    "   print \"1 - Got a true expression value\"\n",
    "   print var1\n",
    "\n",
    "var2 = 0\n",
    "if var2:\n",
    "   print \"2 - Got a true expression value\"\n",
    "   print var2\n",
    "print \"Good bye!\"\n",
    "</pre>\n",
    "<p>When the above code is executed, it produces the following result &minus;</p>\n",
    "<pre class=\"result notranslate\">\n",
    "1 - Got a true expression value\n",
    "100\n",
    "Good bye!\n",
    "</pre>\n",
    "\n"
   ]
  },
  {
   "cell_type": "code",
   "execution_count": 0,
   "metadata": {
    "colab": {},
    "colab_type": "code",
    "id": "UI98mmzRf8XN"
   },
   "outputs": [],
   "source": [
    "var1 = 100\n",
    "if var1:\n",
    "   print \"1 - Got a true expression value\"\n",
    "   print var1\n",
    "\n",
    "var2 = 0\n",
    "if var2:\n",
    "   print \"2 - Got a true expression value\"\n",
    "   print var2\n",
    "print \"Good bye!\""
   ]
  },
  {
   "cell_type": "markdown",
   "metadata": {
    "colab_type": "text",
    "id": "3USHeVstiVa-"
   },
   "source": [
    "<h3>Syntax of the <i>if...else</i> is as follows</h3>\n",
    "\n",
    "<pre class=\"result notranslate\">\n",
    "if expression:\n",
    "   statement(s)\n",
    "else:\n",
    "   statement(s)\n",
    "</pre>\n",
    "\n",
    "<pre class=\"prettyprint notranslate\">\n",
    "Example of if...else\n",
    "#!/usr/bin/python\n",
    "\n",
    "var1 = 100\n",
    "if var1:\n",
    "   print \"1 - Got a true expression value\"\n",
    "   print var1\n",
    "else:\n",
    "   print \"1 - Got a false expression value\"\n",
    "   print var1\n",
    "\n",
    "var2 = 0\n",
    "if var2:\n",
    "   print \"2 - Got a true expression value\"\n",
    "   print var2\n",
    "else:\n",
    "   print \"2 - Got a false expression value\"\n",
    "   print var2\n",
    "\n",
    "print \"Good bye!\"\n",
    "</pre>\n",
    "<p>When the above code is executed, it produces the following result &minus;</p>\n",
    "<pre class=\"result notranslate\">\n",
    "1 - Got a true expression value\n",
    "100\n",
    "2 - Got a false expression value\n",
    "0\n",
    "Good bye!\n",
    "</pre>"
   ]
  },
  {
   "cell_type": "code",
   "execution_count": 0,
   "metadata": {
    "colab": {},
    "colab_type": "code",
    "id": "nQya8WC1jOXJ"
   },
   "outputs": [],
   "source": [
    "var1 = 100\n",
    "if var1:\n",
    "   print \"1 - Got a true expression value\"\n",
    "   print var1\n",
    "else:\n",
    "   print \"1 - Got a false expression value\"\n",
    "   print var1\n",
    "\n",
    "var2 = 0\n",
    "if var2:\n",
    "   print \"2 - Got a true expression value\"\n",
    "   print var2\n",
    "else:\n",
    "   print \"2 - Got a false expression value\"\n",
    "   print var2\n",
    "\n",
    "print \"Good bye!\""
   ]
  },
  {
   "cell_type": "markdown",
   "metadata": {
    "colab_type": "text",
    "id": "DP673JVmjVeg"
   },
   "source": [
    "<h2>The <i>elif</i> Statement</h2>\n",
    "<p>The <b>elif</b> statement allows you to check multiple expressions for TRUE and execute a block of code as soon as one of the conditions evaluates to TRUE.</p>\n",
    "<p>Similar to the <b>else</b>, the <b>elif</b> statement is optional. However, unlike <b>else</b>, for which there can be at most one statement, there can be an arbitrary number of <b>elif</b> statements following an <b>if</b>.</p>\n",
    "<h3>syntax</h3>\n",
    "<pre class=\"result notranslate\">\n",
    "if expression1:\n",
    "   statement(s)\n",
    "elif expression2:\n",
    "   statement(s)\n",
    "elif expression3:\n",
    "   statement(s)\n",
    "else:\n",
    "   statement(s)\n",
    "</pre>\n",
    "<p>Core Python does not provide switch or case statements as in other languages, but we can use if..elif...statements to simulate switch case as follows &minus;</p>\n"
   ]
  },
  {
   "cell_type": "code",
   "execution_count": 0,
   "metadata": {
    "colab": {},
    "colab_type": "code",
    "id": "xk8G2Gd7l0uH"
   },
   "outputs": [],
   "source": [
    "a = 33\n",
    "b = 33\n",
    "if b > a:\n",
    "  print(\"b is greater than a\")\n",
    "elif a == b:\n",
    "  print(\"a and b are equal\")"
   ]
  },
  {
   "cell_type": "markdown",
   "metadata": {
    "colab_type": "text",
    "id": "qk1AtgxsltFQ"
   },
   "source": [
    "<h3>Example</h3>\n",
    "\n",
    "<pre class=\"prettyprint notranslate\">\n",
    "#!/usr/bin/python\n",
    "\n",
    "var = 100\n",
    "if var == 200:\n",
    "   print \"1 - Got a true expression value\"\n",
    "   print var\n",
    "elif var == 150:\n",
    "   print \"2 - Got a true expression value\"\n",
    "   print var\n",
    "elif var == 100:\n",
    "   print \"3 - Got a true expression value\"\n",
    "   print var\n",
    "else:\n",
    "   print \"4 - Got a false expression value\"\n",
    "   print var\n",
    "\n",
    "print \"Good bye!\"\n",
    "</pre>\n",
    "<p>When the above code is executed, it produces the following result &minus;</p>\n",
    "<pre class=\"result notranslate\">\n",
    "3 - Got a true expression value\n",
    "100\n",
    "Good bye!\n",
    "</pre>"
   ]
  },
  {
   "cell_type": "code",
   "execution_count": 0,
   "metadata": {
    "colab": {},
    "colab_type": "code",
    "id": "eMPb-yy_jtqq"
   },
   "outputs": [],
   "source": [
    "var = 100\n",
    "if var == 200:\n",
    "   print \"1 - Got a true expression value\"\n",
    "   print var\n",
    "elif var == 150:\n",
    "   print \"2 - Got a true expression value\"\n",
    "   print var\n",
    "elif var == 100:\n",
    "   print \"3 - Got a true expression value\"\n",
    "   print var\n",
    "else:\n",
    "   print \"4 - Got a false expression value\"\n",
    "   print var\n",
    "\n",
    "print \"Good bye!\""
   ]
  },
  {
   "cell_type": "markdown",
   "metadata": {
    "colab_type": "text",
    "id": "Uuo8mK_6kbth"
   },
   "source": [
    "<h2>Nested If Statement</h2>\n",
    "<p>In a nested <b>if</b> construct, you can have an <b>if...elif...else</b> construct inside another <b>if...elif...else</b> construct.</p>\n",
    "<h2>Syntax</h2>\n",
    "<p>The syntax of the nested <i>if...elif...else</i> construct may be &minus;</p>\n",
    "<pre class=\"result notranslate\">\n",
    "if expression1:\n",
    "   statement(s)\n",
    "   if expression2:\n",
    "      statement(s)\n",
    "   elif expression3:\n",
    "      statement(s)\n",
    "   elif expression4:\n",
    "      statement(s)\n",
    "   else:\n",
    "      statement(s)\n",
    "else:\n",
    "   statement(s)\n",
    "</pre>"
   ]
  },
  {
   "cell_type": "code",
   "execution_count": 0,
   "metadata": {
    "colab": {},
    "colab_type": "code",
    "id": "_f3Xb_u4mJto"
   },
   "outputs": [],
   "source": [
    "#Example\n",
    "a = 200\n",
    "b = 33\n",
    "if b > a:\n",
    "  print(\"b is greater than a\")\n",
    "elif a == b:\n",
    "  print(\"a and b are equal\")\n",
    "else:\n",
    "  print(\"a is greater than b\")"
   ]
  },
  {
   "cell_type": "markdown",
   "metadata": {
    "colab_type": "text",
    "id": "A7-qkzU4mH0i"
   },
   "source": [
    "<h2>Example</h2>\n",
    "\n",
    "<pre class=\"prettyprint notranslate\">\n",
    "#!/usr/bin/python\n",
    "\n",
    "var = 100\n",
    "if var &lt; 200:\n",
    "   print \"Expression value is less than 200\"\n",
    "   if var == 150:\n",
    "      print \"Which is 150\"\n",
    "   elif var == 100:\n",
    "      print \"Which is 100\"\n",
    "   elif var == 50:\n",
    "      print \"Which is 50\"\n",
    "   elif var &lt; 50:\n",
    "      print \"Expression value is less than 50\"\n",
    "else:\n",
    "   print \"Could not find true expression\"\n",
    "\n",
    "print \"Good bye!\"\n",
    "</pre>\n",
    "<p>When the above code is executed, it produces following result &minus;</p>\n",
    "<pre class=\"result notranslate\">\n",
    "Expression value is less than 200\n",
    "Which is 100\n",
    "Good bye!\n",
    "</pre>"
   ]
  },
  {
   "cell_type": "code",
   "execution_count": 0,
   "metadata": {
    "colab": {},
    "colab_type": "code",
    "id": "7G-aco0Dksn2"
   },
   "outputs": [],
   "source": [
    "var = 100\n",
    "if var &lt; 200:\n",
    "   print \"Expression value is less than 200\"\n",
    "   if var == 150:\n",
    "      print \"Which is 150\"\n",
    "   elif var == 100:\n",
    "      print \"Which is 100\"\n",
    "   elif var == 50:\n",
    "      print \"Which is 50\"\n",
    "   elif var &lt; 50:\n",
    "      print \"Expression value is less than 50\"\n",
    "else:\n",
    "   print \"Could not find true expression\"\n",
    "\n",
    "print \"Good bye!\""
   ]
  },
  {
   "cell_type": "markdown",
   "metadata": {
    "colab_type": "text",
    "id": "12hxWZcvmU_M"
   },
   "source": [
    "# **Short Hand (or) one line if**\n",
    "\n",
    "If you have only one statement to execute, you can put it on the same line as the if statement.\n",
    "\n",
    "Example\n",
    "One line if statement:"
   ]
  },
  {
   "cell_type": "code",
   "execution_count": 0,
   "metadata": {
    "colab": {},
    "colab_type": "code",
    "id": "xvz-wfvcmeFc"
   },
   "outputs": [],
   "source": [
    "if a > b: print(\"a is greater than b\")"
   ]
  },
  {
   "cell_type": "code",
   "execution_count": 0,
   "metadata": {
    "colab": {},
    "colab_type": "code",
    "id": "HVsTd6wnmxty"
   },
   "outputs": [],
   "source": [
    "#One line if else statement:\n",
    "\n",
    "a = 2\n",
    "b = 330\n",
    "print(\"A\") if a > b else print(\"B\")"
   ]
  },
  {
   "cell_type": "code",
   "execution_count": 0,
   "metadata": {
    "colab": {},
    "colab_type": "code",
    "id": "VZEqbTkim5Kl"
   },
   "outputs": [],
   "source": [
    "#One line if else statement, with 3 conditions:\n",
    "\n",
    "a = 330\n",
    "b = 330\n",
    "print(\"A\") if a > b else print(\"=\") if a == b else print(\"B\")"
   ]
  },
  {
   "cell_type": "markdown",
   "metadata": {
    "colab_type": "text",
    "id": "lDLfilBDnM8b"
   },
   "source": [
    "# The Logical Operators **And**, **or**"
   ]
  },
  {
   "cell_type": "code",
   "execution_count": 0,
   "metadata": {
    "colab": {},
    "colab_type": "code",
    "id": "lgqPKJMrnIfF"
   },
   "outputs": [],
   "source": [
    "a = 200\n",
    "b = 33\n",
    "c = 500\n",
    "if a > b and c > a:\n",
    "  print(\"Both conditions are True\")"
   ]
  },
  {
   "cell_type": "code",
   "execution_count": 0,
   "metadata": {
    "colab": {},
    "colab_type": "code",
    "id": "X-khIFLfnZtg"
   },
   "outputs": [],
   "source": [
    "a = 200\n",
    "b = 33\n",
    "c = 500\n",
    "if a > b or a > c:\n",
    "  print(\"At least one of the conditions is True\")"
   ]
  },
  {
   "cell_type": "markdown",
   "metadata": {
    "colab_type": "text",
    "id": "vFbD2SKXncrq"
   },
   "source": [
    "# The **Pass** Statement\n",
    "\n",
    "if statements cannot be empty, but if you for some reason have an if statement with no content, put in the pass statement to avoid getting an error."
   ]
  },
  {
   "cell_type": "code",
   "execution_count": 0,
   "metadata": {
    "colab": {},
    "colab_type": "code",
    "id": "4WLfmnUTnniU"
   },
   "outputs": [],
   "source": [
    "a = 33\n",
    "b = 200\n",
    "\n",
    "if b > a:\n",
    "  pass"
   ]
  },
  {
   "cell_type": "markdown",
   "metadata": {
    "colab_type": "text",
    "id": "y43ZGqqPo7k4"
   },
   "source": [
    "# **Loops in Python**\n",
    "\n",
    "Python programming language provides following types of loops to handle looping requirements.\n",
    "\n",
    "While loop\n",
    "\n",
    "for loop\n",
    "\n",
    "nested loops\n",
    "\n",
    "**Loop controls are as follows:**\n",
    "\n",
    "break statement\n",
    "\n",
    "continue statement\n",
    "\n",
    "pass statement\n",
    "\n"
   ]
  },
  {
   "cell_type": "markdown",
   "metadata": {
    "colab_type": "text",
    "id": "8W6NjNSlqEPT"
   },
   "source": [
    "<p>A <b>while</b> loop statement in Python programming language repeatedly executes a target statement as long as a given condition is true.</p>\n",
    "<h3>Syntax</h3>\n",
    "<p>The syntax of a <b>while</b> loop in Python programming language is &minus;</p>\n",
    "<pre class=\"result notranslate\">\n",
    "while expression:\n",
    "   statement(s)\n",
    "</pre>"
   ]
  },
  {
   "cell_type": "code",
   "execution_count": 0,
   "metadata": {
    "colab": {},
    "colab_type": "code",
    "id": "mwDri0UpqK7R"
   },
   "outputs": [],
   "source": [
    "#Example\n",
    "\n",
    "count = 0\n",
    "while (count < 9):\n",
    "   print (\"The count is:\", count)\n",
    "   count = count + 1\n",
    "\n",
    "print (\"Good bye!\")"
   ]
  },
  {
   "cell_type": "markdown",
   "metadata": {
    "colab_type": "text",
    "id": "U7WK2n9Cqs8P"
   },
   "source": [
    "<h3>Syntax of for loop</h3>\n",
    "\n",
    "<p>It has the ability to iterate over the items of any sequence, such as a list or a string.</p>\n",
    "<pre class=\"result notranslate\">\n",
    "for iterating_var in sequence:\n",
    "   statements(s)\n",
    "</pre>\n",
    "<p>If a sequence contains an expression list, it is evaluated first. Then, the first item in the sequence is assigned to the iterating variable <i>iterating_var</i>. Next, the statements block is executed. Each item in the list is assigned to <i>iterating_var</i>, and the statement(s) block is executed until the entire sequence is exhausted.</p>"
   ]
  },
  {
   "cell_type": "code",
   "execution_count": 0,
   "metadata": {
    "colab": {},
    "colab_type": "code",
    "id": "Xx2aTAkRrQ4M"
   },
   "outputs": [],
   "source": [
    "fruits = [\"apple\", \"banana\", \"cherry\"]\n",
    "for x in fruits:\n",
    "  print(x)\n",
    "\n",
    "for x in \"banana\":\n",
    "  print(x)"
   ]
  },
  {
   "cell_type": "markdown",
   "metadata": {
    "colab_type": "text",
    "id": "JgeGo46y3gX2"
   },
   "source": [
    "# **Else in For Loop**\n",
    "\n",
    "The **else** keyword in a **for** loop specifies a block of code to be executed when the loop is finished:"
   ]
  },
  {
   "cell_type": "code",
   "execution_count": 0,
   "metadata": {
    "colab": {},
    "colab_type": "code",
    "id": "su6gPZZa3rG9"
   },
   "outputs": [],
   "source": [
    "#Example\n",
    "#Print all numbers from 0 to 5, and print a message when the loop has ended:\n",
    "\n",
    "for x in range(6):\n",
    "  print(x)\n",
    "else:\n",
    "  print(\"Finally finished!\")"
   ]
  },
  {
   "cell_type": "markdown",
   "metadata": {
    "colab_type": "text",
    "id": "LqZCj6XFsgiy"
   },
   "source": [
    "<p>The following example illustrates the combination of an else statement with a for statement that searches for prime numbers from 10 through 20.</p>"
   ]
  },
  {
   "cell_type": "code",
   "execution_count": 0,
   "metadata": {
    "colab": {},
    "colab_type": "code",
    "id": "832t-ONbsWJM"
   },
   "outputs": [],
   "source": [
    "for num in range(10,20):     #to iterate between 10 to 20\n",
    "   for i in range(2,num):    #to iterate on the factors of the number\n",
    "      if num%i == 0:         #to determine the first factor\n",
    "         j=num/i             #to calculate the second factor\n",
    "         print ('%d equals %d * %d' % (num,i,j))\n",
    "         break #to move to the next number, the #first FOR\n",
    "   else:                  # else part of the loop\n",
    "      print (num, 'is a prime number')            "
   ]
  },
  {
   "cell_type": "markdown",
   "metadata": {
    "colab_type": "text",
    "id": "6zr0fChq4Lt_"
   },
   "source": [
    "# **Nested Loops**\n",
    "\n",
    "A nested loop is a loop inside a loop.\n",
    "\n",
    "The \"inner loop\" will be executed one time for each iteration of the \"outer loop\":"
   ]
  },
  {
   "cell_type": "code",
   "execution_count": 0,
   "metadata": {
    "colab": {},
    "colab_type": "code",
    "id": "0iaBE3xX4PUM"
   },
   "outputs": [],
   "source": [
    "#Example\n",
    "#Print each adjective for every fruit:\n",
    "\n",
    "adj = [\"red\", \"big\", \"tasty\"]\n",
    "fruits = [\"apple\", \"banana\", \"cherry\"]\n",
    "\n",
    "for x in adj:\n",
    "  for y in fruits:\n",
    "    print(x, y)"
   ]
  },
  {
   "cell_type": "code",
   "execution_count": 0,
   "metadata": {
    "colab": {},
    "colab_type": "code",
    "id": "pMY6bAm048PX"
   },
   "outputs": [],
   "source": [
    "for letter in 'Python':    # First Example\n",
    "   print ('Current Letter :', letter)\n",
    "\n",
    "fruits = ['banana', 'apple',  'mango']\n",
    "for fruit in fruits:        # Second Example\n",
    "   print ('Current fruit :', fruit)\n",
    "\n",
    "print (\"Good bye!\")"
   ]
  },
  {
   "cell_type": "markdown",
   "metadata": {
    "colab_type": "text",
    "id": "-s5cJCdg5QHf"
   },
   "source": [
    "# **Loop Control Statements**"
   ]
  },
  {
   "cell_type": "code",
   "execution_count": 0,
   "metadata": {
    "colab": {},
    "colab_type": "code",
    "id": "BKQnCh_j5T9e"
   },
   "outputs": [],
   "source": [
    "#Exit the loop when x is \"banana\":\n",
    "\n",
    "fruits = [\"apple\", \"banana\", \"cherry\"]\n",
    "for x in fruits:\n",
    "  print(x)\n",
    "  if x == \"banana\":\n",
    "    break"
   ]
  },
  {
   "cell_type": "code",
   "execution_count": 0,
   "metadata": {
    "colab": {},
    "colab_type": "code",
    "id": "Zzi5IFyx5dfb"
   },
   "outputs": [],
   "source": [
    "#Exit the loop when x is \"banana\"\n",
    "fruits = [\"apple\", \"banana\", \"cherry\"]\n",
    "for x in fruits:\n",
    "  if x == \"banana\":\n",
    "    break\n",
    "  print(x)"
   ]
  },
  {
   "cell_type": "code",
   "execution_count": 0,
   "metadata": {
    "colab": {},
    "colab_type": "code",
    "id": "q1n6Fq1-5rCS"
   },
   "outputs": [],
   "source": [
    "#Do not print banana:\n",
    "\n",
    "fruits = [\"apple\", \"banana\", \"cherry\"]\n",
    "for x in fruits:\n",
    "  if x == \"banana\":\n",
    "    continue\n",
    "  print(x)"
   ]
  },
  {
   "cell_type": "markdown",
   "metadata": {
    "colab_type": "text",
    "id": "9h8A4hVE8N-x"
   },
   "source": [
    "The **pass** statement is a **null operation**; nothing happens when it executes."
   ]
  },
  {
   "cell_type": "code",
   "execution_count": 0,
   "metadata": {
    "colab": {},
    "colab_type": "code",
    "id": "kqvDkUuc6iX7"
   },
   "outputs": [],
   "source": [
    "for x in [0, 1, 2]:\n",
    "  pass"
   ]
  },
  {
   "cell_type": "code",
   "execution_count": 0,
   "metadata": {
    "colab": {},
    "colab_type": "code",
    "id": "vV3pFKgf69TL"
   },
   "outputs": [],
   "source": [
    "for letter in 'Python': \n",
    "   if letter == 'h':\n",
    "      pass\n",
    "      print ('This is pass block')\n",
    "   print ('Current Letter :', letter)"
   ]
  },
  {
   "cell_type": "code",
   "execution_count": 0,
   "metadata": {
    "colab": {},
    "colab_type": "code",
    "id": "mIhrHyOk51Uq"
   },
   "outputs": [],
   "source": [
    "for x in [0, 1, 2]:\n",
    "    if x==1:\n",
    "      pass\n",
    "      print ('This is pass block')\n",
    "    print(x)"
   ]
  },
  {
   "cell_type": "markdown",
   "metadata": {
    "colab_type": "text",
    "id": "MAQgU1JN8vah"
   },
   "source": [
    "# **Functions in Python**\n",
    "\n",
    "A function is a block of organized, reusable code that is used to perform a single, related action.\n",
    "\n",
    "<h2>Defining a Function</h2>\n",
    "<p>You can define functions to provide the required functionality. Here are simple rules to define a function in Python.</p>\n",
    "<ul class=\"list\">\n",
    "<li><p>Function blocks begin with the keyword <b>def</b> followed by the function name and parentheses ( ( ) ).</p></li>\n",
    "<li><p>Any input parameters or arguments should be placed within these parentheses. You can also define parameters inside these parentheses.</p></li>\n",
    "<li><p>The first statement of a function can be an optional statement - the documentation string of the function or <i>docstring</i>.</p></li>\n",
    "<li><p>The code block within every function starts with a colon (:) and is indented.</p></li>\n",
    "<li><p>The statement <b>return [expression]</b> exits a function, optionally passing back an expression to the caller. A <b>return</b> statement with no arguments is the same as return None.</p></li>\n",
    "</ul>\n",
    "<h2>Syntax</h2>\n",
    "<pre class=\"result notranslate\">\n",
    "def functionname( parameters ):\n",
    "   \"function_docstring\"\n",
    "   function_suite\n",
    "   return [expression]\n",
    "</pre>\n",
    "<p>By default, parameters have a positional behavior and you need to inform them in the same order that they were defined.</p>"
   ]
  },
  {
   "cell_type": "code",
   "execution_count": 0,
   "metadata": {
    "colab": {},
    "colab_type": "code",
    "id": "EN2o9ymy-7ln"
   },
   "outputs": [],
   "source": [
    "def my_function():\n",
    "  print(\"Hello from a function\")\n",
    "\n",
    "my_function()"
   ]
  },
  {
   "cell_type": "code",
   "execution_count": 0,
   "metadata": {
    "colab": {},
    "colab_type": "code",
    "id": "6hZVT52Q_KT8"
   },
   "outputs": [],
   "source": [
    "#Parameters\n",
    "\n",
    "def my_function(fname):\n",
    "  print(fname + \" Refsnes\")\n",
    "\n",
    "my_function(\"Emil\")\n",
    "my_function(\"Tobias\")\n",
    "my_function(\"Linus\")"
   ]
  },
  {
   "cell_type": "code",
   "execution_count": 0,
   "metadata": {
    "colab": {},
    "colab_type": "code",
    "id": "5W713rwc-GI_"
   },
   "outputs": [],
   "source": [
    "def printme( str ):\n",
    "   \"This prints a passed string into this function\"\n",
    "   print str\n",
    "   return;\n",
    "\n",
    "# Now you can call printme function\n",
    "printme(\"I'm first call to user defined function!\")\n",
    "printme(\"Again second call to the same function\")"
   ]
  },
  {
   "cell_type": "code",
   "execution_count": 0,
   "metadata": {
    "colab": {},
    "colab_type": "code",
    "id": "5G5nh_a3_Qy5"
   },
   "outputs": [],
   "source": [
    "#Default Parameter Value\n",
    "#If we call the function without parameter, it uses the default value\n",
    "def my_function(country = \"Norway\"):\n",
    "  print(\"I am from \" + country)\n",
    "\n",
    "my_function(\"Sweden\")\n",
    "my_function(\"India\")\n",
    "my_function()\n",
    "my_function(\"Brazil\")"
   ]
  },
  {
   "cell_type": "code",
   "execution_count": 0,
   "metadata": {
    "colab": {
     "base_uri": "https://localhost:8080/",
     "height": 71
    },
    "colab_type": "code",
    "id": "PHc4R-I0_fIJ",
    "outputId": "4e906ae4-3a52-4244-f42e-84de2bd7c2d3"
   },
   "outputs": [
    {
     "name": "stdout",
     "output_type": "stream",
     "text": [
      "apple\n",
      "banana\n",
      "cherry\n"
     ]
    }
   ],
   "source": [
    "#Passing a List as a Parameter\n",
    "def my_function(food):\n",
    "  for x in food:\n",
    "    print(x)\n",
    "\n",
    "fruits = [\"apple\", \"banana\", \"cherry\"]\n",
    "\n",
    "my_function(fruits)"
   ]
  },
  {
   "cell_type": "code",
   "execution_count": 0,
   "metadata": {
    "colab": {},
    "colab_type": "code",
    "id": "QiBBhjEp_tvV"
   },
   "outputs": [],
   "source": [
    "#Return value\n",
    "def my_function(x):\n",
    "  return 5 * x\n",
    "\n",
    "print(my_function(3))\n",
    "print(my_function(5))\n",
    "print(my_function(9))"
   ]
  },
  {
   "cell_type": "markdown",
   "metadata": {
    "colab_type": "text",
    "id": "09Cyjxk-30qW"
   },
   "source": [
    "# **Global Variables**\n",
    "\n",
    "Variables that are created outside of a function (as in all of the examples above) are known as global variables.\n",
    "\n",
    "Global variables can be used by everyone, both inside of functions and outside.\n"
   ]
  },
  {
   "cell_type": "code",
   "execution_count": 0,
   "metadata": {
    "colab": {},
    "colab_type": "code",
    "id": "9-HXB9ev35Ln"
   },
   "outputs": [],
   "source": [
    "x = \"awesome\"\n",
    "\n",
    "def myfunc():\n",
    "  print(\"Python is \" + x)\n",
    "\n",
    "myfunc()"
   ]
  },
  {
   "cell_type": "markdown",
   "metadata": {
    "colab_type": "text",
    "id": "v2yYwaO13-Yw"
   },
   "source": [
    "If you create a variable with the same name inside a function, this variable will be local, and can only be used inside the function. The global variable with the same name will remain as it was, global and with the original value."
   ]
  },
  {
   "cell_type": "code",
   "execution_count": 0,
   "metadata": {
    "colab": {},
    "colab_type": "code",
    "id": "Xj-I90oF4CvS"
   },
   "outputs": [],
   "source": [
    "#Create a variable inside a function, with the same name as the global variable\n",
    "\n",
    "x = \"awesome\"\n",
    "\n",
    "def myfunc():\n",
    "  x = \"fantastic\"\n",
    "  print(\"Python is \" + x)\n",
    "\n",
    "myfunc()\n",
    "\n",
    "print(\"Python is \" + x)"
   ]
  },
  {
   "cell_type": "markdown",
   "metadata": {
    "colab_type": "text",
    "id": "NgJMXaow4GAk"
   },
   "source": [
    "**The global Keyword**\n",
    "\n",
    "Normally, when you create a variable inside a function, that variable is local, and can only be used inside that function.\n",
    "\n",
    "To create a global variable inside a function, you can use the global keyword.\n"
   ]
  },
  {
   "cell_type": "code",
   "execution_count": 0,
   "metadata": {
    "colab": {},
    "colab_type": "code",
    "id": "bJP8u98V4Mkr"
   },
   "outputs": [],
   "source": [
    "def myfunc():\n",
    "  global x\n",
    "  x = \"fantastic\"\n",
    "\n",
    "myfunc()\n",
    "\n",
    "print(\"Python is \" + x)"
   ]
  },
  {
   "cell_type": "markdown",
   "metadata": {
    "colab_type": "text",
    "id": "nqqQ6I-24QKv"
   },
   "source": [
    "Also, use the global keyword if you want to change a global variable inside a function."
   ]
  },
  {
   "cell_type": "code",
   "execution_count": 0,
   "metadata": {
    "colab": {},
    "colab_type": "code",
    "id": "FOoBQnd64TlW"
   },
   "outputs": [],
   "source": [
    "#To change the value of a global variable inside a function, refer to the variable by using the global keyword:\n",
    "\n",
    "x = \"awesome\"\n",
    "\n",
    "def myfunc():\n",
    "  global x\n",
    "  x = \"fantastic\"\n",
    "\n",
    "myfunc()\n",
    "\n",
    "print(\"Python is \" + x)"
   ]
  },
  {
   "cell_type": "markdown",
   "metadata": {
    "colab_type": "text",
    "id": "s6_RDIhMIDOY"
   },
   "source": [
    "# **Recursion**"
   ]
  },
  {
   "cell_type": "code",
   "execution_count": 0,
   "metadata": {
    "colab": {},
    "colab_type": "code",
    "id": "3VWw5OcWHQlQ"
   },
   "outputs": [],
   "source": [
    "def fact_recursion(k):\n",
    "  if(k<=0):\n",
    "    return 1\n",
    "  else:\n",
    "    return k*fact_recursion(k-1)\n",
    "\n",
    "print(\"\\n\\nRecursion Example Results\")\n",
    "tri_recursion(5)"
   ]
  },
  {
   "cell_type": "code",
   "execution_count": 0,
   "metadata": {
    "colab": {},
    "colab_type": "code",
    "id": "YFvmtk9oHyjD"
   },
   "outputs": [],
   "source": [
    "def tri_recursion(k):\n",
    "  if(k>0):\n",
    "    result = k+tri_recursion(k-1)\n",
    "    print(result)\n",
    "  else:\n",
    "    result = 0\n",
    "  return result\n",
    "\n",
    "print(\"\\n\\nRecursion Example Results\")\n",
    "tri_recursion(6)"
   ]
  }
 ],
 "metadata": {
  "colab": {
   "collapsed_sections": [],
   "name": "Statements_and_Functions",
   "provenance": []
  },
  "kernelspec": {
   "display_name": "Python 3",
   "language": "python",
   "name": "python3"
  },
  "language_info": {
   "codemirror_mode": {
    "name": "ipython",
    "version": 3
   },
   "file_extension": ".py",
   "mimetype": "text/x-python",
   "name": "python",
   "nbconvert_exporter": "python",
   "pygments_lexer": "ipython3",
   "version": "3.5.2"
  }
 },
 "nbformat": 4,
 "nbformat_minor": 1
}
