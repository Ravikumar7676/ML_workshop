{
 "cells": [
  {
   "cell_type": "markdown",
   "metadata": {},
   "source": [
    "1. You are given the shape of the array in the form of space-separated integers, each integer representing the size of different dimensions, \n",
    "your task is to print an array of the given shape and integer type using the tools numpy.zeros and numpy.ones.\n"
   ]
  },
  {
   "cell_type": "markdown",
   "metadata": {},
   "source": [
    "2. You are given a 2-D array with dimensions  N X M\n",
    "Your task is to perform the min function over axis 1 and then find the max of that."
   ]
  },
  {
   "cell_type": "markdown",
   "metadata": {},
   "source": [
    "3. You are given a 2-D array with dimensions  N X M\n",
    "Your task is to perform the SUM function over axis 0 and then find the PRODUCT of that."
   ]
  },
  {
   "cell_type": "markdown",
   "metadata": {},
   "source": [
    "4. You are given a 2-D array of size X\n",
    "\n",
    "Your task is to find:\n",
    "\n",
    "    The mean along axis 0\n",
    "    The var along axis 1\n",
    "    The std along axis None\n"
   ]
  },
  {
   "cell_type": "markdown",
   "metadata": {},
   "source": [
    "5. Write a program to implement y=x^2+logx without using loops. x may be a scalar or vector or tensor (n-dimensional array)."
   ]
  },
  {
   "cell_type": "markdown",
   "metadata": {},
   "source": [
    "6. Implement (X- μ)/ σ ,where μ is mean of x and  σ is the standard deviation of X, without using loops. X may be a scalar or vector or tensor."
   ]
  }
 ],
 "metadata": {
  "kernelspec": {
   "display_name": "Python 3",
   "language": "python",
   "name": "python3"
  },
  "language_info": {
   "codemirror_mode": {
    "name": "ipython",
    "version": 3
   },
   "file_extension": ".py",
   "mimetype": "text/x-python",
   "name": "python",
   "nbconvert_exporter": "python",
   "pygments_lexer": "ipython3",
   "version": "3.7.4"
  }
 },
 "nbformat": 4,
 "nbformat_minor": 2
}
